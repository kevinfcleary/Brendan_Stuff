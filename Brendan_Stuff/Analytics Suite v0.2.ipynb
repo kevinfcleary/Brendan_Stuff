{
 "cells": [
  {
   "cell_type": "markdown",
   "metadata": {},
   "source": [
    "# Analytics Prototype (Elephant Hunter v 0.2)"
   ]
  },
  {
   "cell_type": "markdown",
   "metadata": {},
   "source": [
    "We want to build a flexible analytics suite which can analyze and predict anomalous market motion, and capitalize on it. The end goal is to feed a trained machine learning system tick data, and have it, using historical data, predict the outcomes and their expected payoffs, by ranking the set of possible actions it will provide instructions to conduct automated trading. As a first step, we first want to analyze the behavior of the S&P 500 index in the opening hour of the market 9:30 - 10:30 on Mondays. To do this we will use Python to aggregate the data and then construct a number of descriptive statistics."
   ]
  },
  {
   "cell_type": "markdown",
   "metadata": {},
   "source": [
    "These import statements include the pandas package, which is perfectly suited for data analysis. Datetime to handle the date and time information of the tick data, and matplotlib so that graphs are visible within the notebook."
   ]
  },
  {
   "cell_type": "code",
   "execution_count": 1,
   "metadata": {
    "collapsed": true
   },
   "outputs": [],
   "source": [
    "import pandas as pd\n",
    "import datetime as dt\n",
    "from datetime import datetime, timedelta\n",
    "import matplotlib.pyplot as plt\n",
    "%matplotlib inline"
   ]
  },
  {
   "cell_type": "code",
   "execution_count": 2,
   "metadata": {
    "collapsed": true
   },
   "outputs": [],
   "source": [
    "file = open(\"dates.txt\",\"r\")\n",
    "\n",
    "for line in file:\n",
    "    fields = line.split(\";\")\n",
    "    \n",
    "file.close()\n",
    "\n",
    "fields = fields[:-1]"
   ]
  },
  {
   "cell_type": "code",
   "execution_count": 3,
   "metadata": {
    "collapsed": true
   },
   "outputs": [],
   "source": [
    "def mlt_to_dt(matlab_datenum):\n",
    "    python_datetime = datetime.fromordinal(int(matlab_datenum)) + timedelta(days=matlab_datenum%1) - timedelta(days = 366)\n",
    "    return python_datetime\n",
    "\n",
    "fields = [mlt_to_dt(float(p)) for p in fields]"
   ]
  },
  {
   "cell_type": "code",
   "execution_count": 4,
   "metadata": {
    "collapsed": true
   },
   "outputs": [],
   "source": [
    "file = open(\"ES.txt\",\"r\")\n",
    "\n",
    "for line in file:\n",
    "    fields1 = line.split(\",\")\n",
    "    \n",
    "file.close()"
   ]
  },
  {
   "cell_type": "code",
   "execution_count": 5,
   "metadata": {
    "collapsed": true
   },
   "outputs": [],
   "source": [
    "fields1=fields1[:-1]\n",
    "fields1=[float(i) for i in fields1]"
   ]
  },
  {
   "cell_type": "code",
   "execution_count": 6,
   "metadata": {
    "collapsed": true
   },
   "outputs": [],
   "source": [
    "import datetime\n",
    "from pandas.tseries.holiday import USFederalHolidayCalendar\n",
    "cal = USFederalHolidayCalendar()\n",
    "holidays = cal.holidays(start='2015-11-14', end='2017-11-14').to_pydatetime()\n",
    "\n",
    "df=pd.DataFrame(fields1,index=fields,columns=['ES_price'])\n",
    "df.index = df.index.round('1min')\n",
    "df=df[(df.index.dayofweek<5) & (df.index.hour<16) & (~df.index.isin(holidays))]"
   ]
  },
  {
   "cell_type": "code",
   "execution_count": 7,
   "metadata": {
    "collapsed": true
   },
   "outputs": [],
   "source": [
    "df['price_change'] = df['ES_price'] - df['ES_price'].shift(+1)"
   ]
  },
  {
   "cell_type": "code",
   "execution_count": 8,
   "metadata": {
    "collapsed": true
   },
   "outputs": [],
   "source": [
    "df['2nd'] = df['price_change'] - df['price_change'].shift(+1)"
   ]
  },
  {
   "cell_type": "code",
   "execution_count": 9,
   "metadata": {
    "collapsed": true
   },
   "outputs": [],
   "source": [
    "df['Volatility'] = df['ES_price'].rolling(window=30,center=False).std()"
   ]
  },
  {
   "cell_type": "code",
   "execution_count": 10,
   "metadata": {
    "collapsed": true
   },
   "outputs": [],
   "source": [
    "df['15min_max'] = df['ES_price'].rolling(window=15,center=False).max()"
   ]
  },
  {
   "cell_type": "code",
   "execution_count": 11,
   "metadata": {
    "collapsed": true
   },
   "outputs": [],
   "source": [
    "df['15min_min'] = df['ES_price'].rolling(window=15,center=False).min()"
   ]
  },
  {
   "cell_type": "code",
   "execution_count": 12,
   "metadata": {
    "collapsed": true
   },
   "outputs": [],
   "source": [
    "df['max_min_spread'] = df['15min_max'] - df['15min_min']"
   ]
  },
  {
   "cell_type": "code",
   "execution_count": 13,
   "metadata": {
    "collapsed": true
   },
   "outputs": [],
   "source": [
    "df['SMA'] = df['ES_price'].rolling(window=30,center=False).mean()"
   ]
  },
  {
   "cell_type": "code",
   "execution_count": 14,
   "metadata": {
    "collapsed": true
   },
   "outputs": [],
   "source": [
    "df['Lower_Bollinger'] = df['SMA'] - 2*df['Volatility']\n",
    "df['Upper_Bollinger'] = df['SMA'] + 2*df['Volatility']"
   ]
  },
  {
   "cell_type": "code",
   "execution_count": 15,
   "metadata": {
    "collapsed": true
   },
   "outputs": [],
   "source": [
    "closing_prices=df.groupby(df.index.date).last()['ES_price']\n",
    "df['close'] = [closing_prices[k.date()] for k in df.index]\n",
    "shift_closing_prices=closing_prices.shift(1)\n",
    "df['prev_close']=[shift_closing_prices[k.date()] for k in df.index]"
   ]
  },
  {
   "cell_type": "code",
   "execution_count": 16,
   "metadata": {
    "collapsed": true
   },
   "outputs": [],
   "source": [
    "df['up_or_down'] = df['close'] - df['prev_close']"
   ]
  },
  {
   "cell_type": "code",
   "execution_count": 17,
   "metadata": {
    "collapsed": true
   },
   "outputs": [],
   "source": [
    "df['abs_change'] = df['price_change'].apply(lambda x: abs(x))"
   ]
  },
  {
   "cell_type": "code",
   "execution_count": 18,
   "metadata": {
    "collapsed": true
   },
   "outputs": [],
   "source": [
    "change = df['price_change'].tolist()"
   ]
  },
  {
   "cell_type": "code",
   "execution_count": 19,
   "metadata": {
    "collapsed": true
   },
   "outputs": [],
   "source": [
    "Trending = [0] * len(change)\n",
    "for i in range(2,len(change)):\n",
    "    if((change[i] > 0) & (change[i-1] > 0)):\n",
    "        Trending[i] = Trending[i-1] + 1\n",
    "    elif((change[i] < 0) & (change[i-1] < 0)):\n",
    "        Trending[i] = Trending[i-1] - 1\n",
    "    else:\n",
    "        Trending[i] = 0\n",
    "        \n",
    "df['zero_trending'] = Trending"
   ]
  },
  {
   "cell_type": "code",
   "execution_count": 20,
   "metadata": {
    "collapsed": true
   },
   "outputs": [],
   "source": [
    "Trending = [0] * len(change)\n",
    "for i in range(2,len(change)):\n",
    "    if(change[i] > 0):\n",
    "        Trending[i] = Trending[i-1] + 1\n",
    "    elif(change[i] < 0):\n",
    "        Trending[i] = Trending[i-1] - 1\n",
    "    else:\n",
    "        Trending[i] = 0\n",
    "\n",
    "df['cum_trending'] = Trending        "
   ]
  },
  {
   "cell_type": "code",
   "execution_count": 21,
   "metadata": {},
   "outputs": [
    {
     "data": {
      "text/html": [
       "<div>\n",
       "<style>\n",
       "    .dataframe thead tr:only-child th {\n",
       "        text-align: right;\n",
       "    }\n",
       "\n",
       "    .dataframe thead th {\n",
       "        text-align: left;\n",
       "    }\n",
       "\n",
       "    .dataframe tbody tr th {\n",
       "        vertical-align: top;\n",
       "    }\n",
       "</style>\n",
       "<table border=\"1\" class=\"dataframe\">\n",
       "  <thead>\n",
       "    <tr style=\"text-align: right;\">\n",
       "      <th></th>\n",
       "      <th>ES_price</th>\n",
       "      <th>price_change</th>\n",
       "      <th>2nd</th>\n",
       "      <th>Volatility</th>\n",
       "      <th>15min_max</th>\n",
       "      <th>15min_min</th>\n",
       "      <th>max_min_spread</th>\n",
       "      <th>SMA</th>\n",
       "      <th>Lower_Bollinger</th>\n",
       "      <th>Upper_Bollinger</th>\n",
       "      <th>close</th>\n",
       "      <th>prev_close</th>\n",
       "      <th>up_or_down</th>\n",
       "      <th>abs_change</th>\n",
       "      <th>zero_trending</th>\n",
       "      <th>cum_trending</th>\n",
       "    </tr>\n",
       "  </thead>\n",
       "  <tbody>\n",
       "    <tr>\n",
       "      <th>count</th>\n",
       "      <td>492543.000000</td>\n",
       "      <td>492542.000000</td>\n",
       "      <td>4.925410e+05</td>\n",
       "      <td>492514.000000</td>\n",
       "      <td>492529.000000</td>\n",
       "      <td>492529.000000</td>\n",
       "      <td>492529.000000</td>\n",
       "      <td>492514.000000</td>\n",
       "      <td>492514.000000</td>\n",
       "      <td>492514.000000</td>\n",
       "      <td>492543.000000</td>\n",
       "      <td>491583.000000</td>\n",
       "      <td>491583.000000</td>\n",
       "      <td>492542.000000</td>\n",
       "      <td>492543.000000</td>\n",
       "      <td>492543.000000</td>\n",
       "    </tr>\n",
       "    <tr>\n",
       "      <th>mean</th>\n",
       "      <td>2214.545897</td>\n",
       "      <td>0.001241</td>\n",
       "      <td>-5.075720e-07</td>\n",
       "      <td>0.801401</td>\n",
       "      <td>2215.463076</td>\n",
       "      <td>2213.612650</td>\n",
       "      <td>1.850426</td>\n",
       "      <td>2214.542592</td>\n",
       "      <td>2212.939789</td>\n",
       "      <td>2216.145395</td>\n",
       "      <td>2215.419939</td>\n",
       "      <td>2214.726718</td>\n",
       "      <td>1.105610</td>\n",
       "      <td>0.313628</td>\n",
       "      <td>0.004018</td>\n",
       "      <td>-0.002851</td>\n",
       "    </tr>\n",
       "    <tr>\n",
       "      <th>std</th>\n",
       "      <td>201.776074</td>\n",
       "      <td>0.556328</td>\n",
       "      <td>8.101877e-01</td>\n",
       "      <td>0.862714</td>\n",
       "      <td>201.463312</td>\n",
       "      <td>202.076868</td>\n",
       "      <td>1.800865</td>\n",
       "      <td>201.764597</td>\n",
       "      <td>202.309904</td>\n",
       "      <td>201.232607</td>\n",
       "      <td>201.772376</td>\n",
       "      <td>201.307622</td>\n",
       "      <td>14.368258</td>\n",
       "      <td>0.459500</td>\n",
       "      <td>0.747598</td>\n",
       "      <td>1.519725</td>\n",
       "    </tr>\n",
       "    <tr>\n",
       "      <th>min</th>\n",
       "      <td>1767.500000</td>\n",
       "      <td>-108.000000</td>\n",
       "      <td>-1.087500e+02</td>\n",
       "      <td>0.000000</td>\n",
       "      <td>1772.250000</td>\n",
       "      <td>1767.500000</td>\n",
       "      <td>0.000000</td>\n",
       "      <td>1770.900000</td>\n",
       "      <td>1762.681138</td>\n",
       "      <td>1773.846547</td>\n",
       "      <td>1787.250000</td>\n",
       "      <td>1787.250000</td>\n",
       "      <td>-77.250000</td>\n",
       "      <td>0.000000</td>\n",
       "      <td>-11.000000</td>\n",
       "      <td>-20.000000</td>\n",
       "    </tr>\n",
       "    <tr>\n",
       "      <th>25%</th>\n",
       "      <td>2047.000000</td>\n",
       "      <td>-0.250000</td>\n",
       "      <td>-2.500000e-01</td>\n",
       "      <td>0.356487</td>\n",
       "      <td>2048.000000</td>\n",
       "      <td>2046.250000</td>\n",
       "      <td>0.750000</td>\n",
       "      <td>2047.091667</td>\n",
       "      <td>2045.612636</td>\n",
       "      <td>2048.656685</td>\n",
       "      <td>2048.250000</td>\n",
       "      <td>2048.250000</td>\n",
       "      <td>-4.500000</td>\n",
       "      <td>0.000000</td>\n",
       "      <td>0.000000</td>\n",
       "      <td>-1.000000</td>\n",
       "    </tr>\n",
       "    <tr>\n",
       "      <th>50%</th>\n",
       "      <td>2165.750000</td>\n",
       "      <td>0.000000</td>\n",
       "      <td>0.000000e+00</td>\n",
       "      <td>0.573856</td>\n",
       "      <td>2166.500000</td>\n",
       "      <td>2165.250000</td>\n",
       "      <td>1.250000</td>\n",
       "      <td>2165.783333</td>\n",
       "      <td>2164.828820</td>\n",
       "      <td>2166.855505</td>\n",
       "      <td>2166.500000</td>\n",
       "      <td>2166.500000</td>\n",
       "      <td>1.000000</td>\n",
       "      <td>0.250000</td>\n",
       "      <td>0.000000</td>\n",
       "      <td>0.000000</td>\n",
       "    </tr>\n",
       "    <tr>\n",
       "      <th>75%</th>\n",
       "      <td>2390.000000</td>\n",
       "      <td>0.250000</td>\n",
       "      <td>2.500000e-01</td>\n",
       "      <td>0.975306</td>\n",
       "      <td>2390.500000</td>\n",
       "      <td>2389.750000</td>\n",
       "      <td>2.250000</td>\n",
       "      <td>2390.083333</td>\n",
       "      <td>2389.213391</td>\n",
       "      <td>2391.007434</td>\n",
       "      <td>2391.750000</td>\n",
       "      <td>2391.750000</td>\n",
       "      <td>8.250000</td>\n",
       "      <td>0.500000</td>\n",
       "      <td>0.000000</td>\n",
       "      <td>1.000000</td>\n",
       "    </tr>\n",
       "    <tr>\n",
       "      <th>max</th>\n",
       "      <td>2593.500000</td>\n",
       "      <td>25.750000</td>\n",
       "      <td>1.080000e+02</td>\n",
       "      <td>55.327944</td>\n",
       "      <td>2593.500000</td>\n",
       "      <td>2592.750000</td>\n",
       "      <td>112.250000</td>\n",
       "      <td>2592.933333</td>\n",
       "      <td>2592.519493</td>\n",
       "      <td>2594.299881</td>\n",
       "      <td>2591.500000</td>\n",
       "      <td>2591.500000</td>\n",
       "      <td>47.250000</td>\n",
       "      <td>108.000000</td>\n",
       "      <td>12.000000</td>\n",
       "      <td>19.000000</td>\n",
       "    </tr>\n",
       "  </tbody>\n",
       "</table>\n",
       "</div>"
      ],
      "text/plain": [
       "            ES_price   price_change           2nd     Volatility  \\\n",
       "count  492543.000000  492542.000000  4.925410e+05  492514.000000   \n",
       "mean     2214.545897       0.001241 -5.075720e-07       0.801401   \n",
       "std       201.776074       0.556328  8.101877e-01       0.862714   \n",
       "min      1767.500000    -108.000000 -1.087500e+02       0.000000   \n",
       "25%      2047.000000      -0.250000 -2.500000e-01       0.356487   \n",
       "50%      2165.750000       0.000000  0.000000e+00       0.573856   \n",
       "75%      2390.000000       0.250000  2.500000e-01       0.975306   \n",
       "max      2593.500000      25.750000  1.080000e+02      55.327944   \n",
       "\n",
       "           15min_max      15min_min  max_min_spread            SMA  \\\n",
       "count  492529.000000  492529.000000   492529.000000  492514.000000   \n",
       "mean     2215.463076    2213.612650        1.850426    2214.542592   \n",
       "std       201.463312     202.076868        1.800865     201.764597   \n",
       "min      1772.250000    1767.500000        0.000000    1770.900000   \n",
       "25%      2048.000000    2046.250000        0.750000    2047.091667   \n",
       "50%      2166.500000    2165.250000        1.250000    2165.783333   \n",
       "75%      2390.500000    2389.750000        2.250000    2390.083333   \n",
       "max      2593.500000    2592.750000      112.250000    2592.933333   \n",
       "\n",
       "       Lower_Bollinger  Upper_Bollinger          close     prev_close  \\\n",
       "count    492514.000000    492514.000000  492543.000000  491583.000000   \n",
       "mean       2212.939789      2216.145395    2215.419939    2214.726718   \n",
       "std         202.309904       201.232607     201.772376     201.307622   \n",
       "min        1762.681138      1773.846547    1787.250000    1787.250000   \n",
       "25%        2045.612636      2048.656685    2048.250000    2048.250000   \n",
       "50%        2164.828820      2166.855505    2166.500000    2166.500000   \n",
       "75%        2389.213391      2391.007434    2391.750000    2391.750000   \n",
       "max        2592.519493      2594.299881    2591.500000    2591.500000   \n",
       "\n",
       "          up_or_down     abs_change  zero_trending   cum_trending  \n",
       "count  491583.000000  492542.000000  492543.000000  492543.000000  \n",
       "mean        1.105610       0.313628       0.004018      -0.002851  \n",
       "std        14.368258       0.459500       0.747598       1.519725  \n",
       "min       -77.250000       0.000000     -11.000000     -20.000000  \n",
       "25%        -4.500000       0.000000       0.000000      -1.000000  \n",
       "50%         1.000000       0.250000       0.000000       0.000000  \n",
       "75%         8.250000       0.500000       0.000000       1.000000  \n",
       "max        47.250000     108.000000      12.000000      19.000000  "
      ]
     },
     "execution_count": 21,
     "metadata": {},
     "output_type": "execute_result"
    }
   ],
   "source": [
    "df.describe()"
   ]
  },
  {
   "cell_type": "code",
   "execution_count": 27,
   "metadata": {},
   "outputs": [
    {
     "data": {
      "text/plain": [
       "count    103.000000\n",
       "mean       0.160194\n",
       "std        0.923452\n",
       "min       -2.750000\n",
       "25%       -0.500000\n",
       "50%        0.250000\n",
       "75%        0.750000\n",
       "max        2.250000\n",
       "Name: price_change, dtype: float64"
      ]
     },
     "execution_count": 27,
     "metadata": {},
     "output_type": "execute_result"
    }
   ],
   "source": [
    "df[(df.index.weekday == 0) & (df.index.hour == 9) & (df.index.minute==31)]['price_change'].describe()"
   ]
  },
  {
   "cell_type": "code",
   "execution_count": 86,
   "metadata": {},
   "outputs": [
    {
     "data": {
      "text/plain": [
       "count    77.000000\n",
       "mean      0.509740\n",
       "std       0.426201\n",
       "min       0.000000\n",
       "25%       0.250000\n",
       "50%       0.500000\n",
       "75%       0.750000\n",
       "max       2.000000\n",
       "Name: abs_change, dtype: float64"
      ]
     },
     "execution_count": 86,
     "metadata": {},
     "output_type": "execute_result"
    }
   ],
   "source": [
    "df[(df.index.weekday == 0) & (df.index.hour == 9) & (df.index.minute==32)&((df.price_change.shift(1) < 1.08)&(df.price_change.shift(1) > -0.76))]['abs_change'].describe()"
   ]
  },
  {
   "cell_type": "code",
   "execution_count": 87,
   "metadata": {
    "collapsed": true
   },
   "outputs": [],
   "source": [
    "minimums = []\n",
    "maximums = []\n",
    "mean_returns = []\n",
    "std_dev = []\n",
    "#lower_quartile = []\n",
    "#upper_quartile = []\n",
    "time_window=pd.date_range(\"09:32\", \"10:30\", freq=\"1min\").time\n",
    "for i in range(1,60): \n",
    "    if(i < 29):\n",
    "        minimums.append(df[(df.index.weekday == 0) & (df.index.hour == 9) & (df.index.minute==31+i) & (df.price_change.shift(i) >= 1.08)]['abs_change'].min())\n",
    "        maximums.append(df[(df.index.weekday == 0) & (df.index.hour == 9) & (df.index.minute==31+i) & (df.price_change.shift(i) >= 1.08)]['abs_change'].max())\n",
    "        mean_returns.append(df[(df.index.weekday == 0) & (df.index.hour == 9) & (df.index.minute==31+i) & (df.price_change.shift(i) >= 1.08)]['abs_change'].mean())\n",
    "        std_dev.append(df[(df.index.weekday == 0) & (df.index.hour == 9) & (df.index.minute==31+i) & (df.price_change.shift(i) >= 1.08) ]['abs_change'].std())\n",
    "        #upper_quartile.append(df[(df.index.weekday == 0) & (df.index.hour == 9) & (df.index.minute==31+i) & (df.price_change.shift(i) >= 1.08) & (df.up_or_down > 0)]['abs_change'].quantile(.75))\n",
    "        #lower_quartile.append(df[(df.index.weekday == 0) & (df.index.hour == 9) & (df.index.minute==31+i) & (df.price_change.shift(i) >= 1.08) & (df.up_or_down > 0)]['abs_change'].quantile(.25))\n",
    "        i+=1\n",
    "    elif(i >= 29):\n",
    "        minimums.append(df[(df.index.weekday == 0) & (df.index.hour == 10) & (df.index.minute==i-29) & (df.price_change.shift(i) >= 1.08)]['abs_change'].min())\n",
    "        maximums.append(df[(df.index.weekday == 0) & (df.index.hour == 10) & (df.index.minute==i-29) & (df.price_change.shift(i) >= 1.08)]['abs_change'].max())\n",
    "        mean_returns.append(df[(df.index.weekday == 0) & (df.index.hour == 10) & (df.index.minute==i-29) & (df.price_change.shift(i) >= 1.08)]['abs_change'].mean())\n",
    "        std_dev.append(df[(df.index.weekday == 0) & (df.index.hour == 10) & (df.index.minute==i-29) & (df.price_change.shift(i) >= 1.08)]['abs_change'].std())\n",
    "        #upper_quartile.append(df[(df.index.weekday == 0) & (df.index.hour == 10) & (df.index.minute==i-29) & (df.price_change.shift(i) >= 0.75) & (df.up_or_down > 0)]['price_change'].quantile(.75))\n",
    "        #lower_quartile.append(df[(df.index.weekday == 0) & (df.index.hour == 10) & (df.index.minute==i-29) & (df.price_change.shift(i) >= 0.75) & (df.up_or_down > 0)]['price_change'].quantile(.25))\n",
    "        i+=1\n",
    "\n",
    "\n"
   ]
  },
  {
   "cell_type": "code",
   "execution_count": 88,
   "metadata": {
    "collapsed": true
   },
   "outputs": [],
   "source": [
    "df_930_1030_up=pd.DataFrame(minimums,index=time_window,columns=['min'])\n",
    "df_930_1030_up['max'] = maximums\n",
    "df_930_1030_up['mean'] = mean_returns\n",
    "df_930_1030_up['std_dev'] = std_dev\n",
    "df_930_1030_up['cumulative_return'] = df_930_1030_up['mean'].cumsum(axis = 0)\n",
    "df_930_1030_up['max_min_spread'] = df_930_1030_up['max'] - df_930_1030_up['min']"
   ]
  },
  {
   "cell_type": "code",
   "execution_count": 90,
   "metadata": {},
   "outputs": [],
   "source": [
    "minimums = []\n",
    "maximums = []\n",
    "mean_returns = []\n",
    "std_dev = []\n",
    "#lower_quartile = []\n",
    "#upper_quartile = []\n",
    "time_window=pd.date_range(\"09:32\", \"10:30\", freq=\"1min\").time\n",
    "for i in range(1,60): \n",
    "    if(i < 29):\n",
    "        minimums.append(df[(df.index.weekday == 0) & (df.index.hour == 9) & (df.index.minute==31+i) & ((df.price_change.shift(i) < 1.08)&(df.price_change.shift(i) > -0.76))]['abs_change'].min())\n",
    "        maximums.append(df[(df.index.weekday == 0) & (df.index.hour == 9) & (df.index.minute==31+i) & ((df.price_change.shift(i) < 1.08)&(df.price_change.shift(i) > -0.76))]['abs_change'].max())\n",
    "        mean_returns.append(df[(df.index.weekday == 0) & (df.index.hour == 9) & (df.index.minute==31+i) & ((df.price_change.shift(i) < 1.08)&(df.price_change.shift(i) > -0.76))]['abs_change'].mean())\n",
    "        std_dev.append(df[(df.index.weekday == 0) & (df.index.hour == 9) & (df.index.minute==31+i) & ((df.price_change.shift(i) < 1.08)&(df.price_change.shift(i) > -0.76)) ]['abs_change'].std())\n",
    "        #upper_quartile.append(df[(df.index.weekday == 0) & (df.index.hour == 9) & (df.index.minute==31+i) & (df.price_change.shift(i) >= 1.08) & (df.up_or_down > 0)]['abs_change'].quantile(.75))\n",
    "        #lower_quartile.append(df[(df.index.weekday == 0) & (df.index.hour == 9) & (df.index.minute==31+i) & (df.price_change.shift(i) >= 1.08) & (df.up_or_down > 0)]['abs_change'].quantile(.25))\n",
    "        i+=1\n",
    "    elif(i >= 29):\n",
    "        minimums.append(df[(df.index.weekday == 0) & (df.index.hour == 10) & (df.index.minute==i-29) & ((df.price_change.shift(i) < 1.08)&(df.price_change.shift(i) > -0.76))]['abs_change'].min())\n",
    "        maximums.append(df[(df.index.weekday == 0) & (df.index.hour == 10) & (df.index.minute==i-29) & ((df.price_change.shift(i) < 1.08)&(df.price_change.shift(i) > -0.76))]['abs_change'].max())\n",
    "        mean_returns.append(df[(df.index.weekday == 0) & (df.index.hour == 10) & (df.index.minute==i-29) & ((df.price_change.shift(i) < 1.08)&(df.price_change.shift(i) > -0.76))]['abs_change'].mean())\n",
    "        std_dev.append(df[(df.index.weekday == 0) & (df.index.hour == 10) & (df.index.minute==i-29) & ((df.price_change.shift(i) < 1.08)&(df.price_change.shift(i) > -0.76))]['abs_change'].std())\n",
    "        #upper_quartile.append(df[(df.index.weekday == 0) & (df.index.hour == 10) & (df.index.minute==i-29) & (df.price_change.shift(i) >= 0.75) & (df.up_or_down > 0)]['price_change'].quantile(.75))\n",
    "        #lower_quartile.append(df[(df.index.weekday == 0) & (df.index.hour == 10) & (df.index.minute==i-29) & (df.price_change.shift(i) >= 0.75) & (df.up_or_down > 0)]['price_change'].quantile(.25))\n",
    "        i+=1\n",
    "\n",
    "\n",
    "\n"
   ]
  },
  {
   "cell_type": "code",
   "execution_count": 91,
   "metadata": {},
   "outputs": [],
   "source": [
    "df_930_1030_mid=pd.DataFrame(minimums,index=time_window,columns=['min'])\n",
    "df_930_1030_mid['max'] = maximums\n",
    "df_930_1030_mid['mean'] = mean_returns\n",
    "df_930_1030_mid['std_dev'] = std_dev\n",
    "df_930_1030_mid['cumulative_return'] = df_930_1030_mid['mean'].cumsum(axis = 0)\n",
    "df_930_1030_mid['max_min_spread'] = df_930_1030_mid['max'] - df_930_1030_mid['min']"
   ]
  },
  {
   "cell_type": "code",
   "execution_count": 92,
   "metadata": {},
   "outputs": [],
   "source": [
    "minimums = []\n",
    "maximums = []\n",
    "mean_returns = []\n",
    "std_dev = []\n",
    "#lower_quartile = []\n",
    "#upper_quartile = []\n",
    "time_window=pd.date_range(\"09:32\", \"10:30\", freq=\"1min\").time\n",
    "for i in range(1,60): \n",
    "    if(i < 29):\n",
    "        minimums.append(df[(df.index.weekday == 0) & (df.index.hour == 9) & (df.index.minute==31+i) & (df.price_change.shift(i) <= -0.76)]['abs_change'].min())\n",
    "        maximums.append(df[(df.index.weekday == 0) & (df.index.hour == 9) & (df.index.minute==31+i) & (df.price_change.shift(i) <= -0.76)]['abs_change'].max())\n",
    "        mean_returns.append(df[(df.index.weekday == 0) & (df.index.hour == 9) & (df.index.minute==31+i) & (df.price_change.shift(i) <= -0.76)]['abs_change'].mean())\n",
    "        std_dev.append(df[(df.index.weekday == 0) & (df.index.hour == 9) & (df.index.minute==31+i) & (df.price_change.shift(i) <= -0.76) ]['abs_change'].std())\n",
    "        #upper_quartile.append(df[(df.index.weekday == 0) & (df.index.hour == 9) & (df.index.minute==31+i) & (df.price_change.shift(i) >= 1.08) & (df.up_or_down > 0)]['abs_change'].quantile(.75))\n",
    "        #lower_quartile.append(df[(df.index.weekday == 0) & (df.index.hour == 9) & (df.index.minute==31+i) & (df.price_change.shift(i) >= 1.08) & (df.up_or_down > 0)]['abs_change'].quantile(.25))\n",
    "        i+=1\n",
    "    elif(i >= 29):\n",
    "        minimums.append(df[(df.index.weekday == 0) & (df.index.hour == 10) & (df.index.minute==i-29) & (df.price_change.shift(i) <= -0.76)]['abs_change'].min())\n",
    "        maximums.append(df[(df.index.weekday == 0) & (df.index.hour == 10) & (df.index.minute==i-29) & (df.price_change.shift(i) <= -0.76)]['abs_change'].max())\n",
    "        mean_returns.append(df[(df.index.weekday == 0) & (df.index.hour == 10) & (df.index.minute==i-29) & (df.price_change.shift(i) <= -0.76)]['abs_change'].mean())\n",
    "        std_dev.append(df[(df.index.weekday == 0) & (df.index.hour == 10) & (df.index.minute==i-29) & (df.price_change.shift(i) <= -0.76)]['abs_change'].std())\n",
    "        #upper_quartile.append(df[(df.index.weekday == 0) & (df.index.hour == 10) & (df.index.minute==i-29) & (df.price_change.shift(i) >= 0.75) & (df.up_or_down > 0)]['price_change'].quantile(.75))\n",
    "        #lower_quartile.append(df[(df.index.weekday == 0) & (df.index.hour == 10) & (df.index.minute==i-29) & (df.price_change.shift(i) >= 0.75) & (df.up_or_down > 0)]['price_change'].quantile(.25))\n",
    "        i+=1\n",
    "\n",
    "\n",
    "\n",
    "\n"
   ]
  },
  {
   "cell_type": "code",
   "execution_count": 93,
   "metadata": {},
   "outputs": [],
   "source": [
    "df_930_1030_down=pd.DataFrame(minimums,index=time_window,columns=['min'])\n",
    "df_930_1030_down['max'] = maximums\n",
    "df_930_1030_down['mean'] = mean_returns\n",
    "df_930_1030_down['std_dev'] = std_dev\n",
    "df_930_1030_down['cumulative_return'] = df_930_1030_down['mean'].cumsum(axis = 0)\n",
    "df_930_1030_down['max_min_spread'] = df_930_1030_down['max'] - df_930_1030_down['min']"
   ]
  },
  {
   "cell_type": "code",
   "execution_count": 94,
   "metadata": {},
   "outputs": [],
   "source": [
    "df_temp = df_930_1030_mid['mean'].to_frame()"
   ]
  },
  {
   "cell_type": "code",
   "execution_count": 95,
   "metadata": {},
   "outputs": [],
   "source": [
    "df_temp['up'] = df_930_1030_up['mean']\n",
    "df_temp['down'] = df_930_1030_down['mean']"
   ]
  },
  {
   "cell_type": "code",
   "execution_count": 96,
   "metadata": {},
   "outputs": [
    {
     "data": {
      "image/png": "[encoded data removed]",
      "text/plain": [
       "<matplotlib.figure.Figure at 0x11a425cd0>"
      ]
     },
     "metadata": {},
     "output_type": "display_data"
    }
   ],
   "source": [
    "df_temp.plot.bar(figsize=(24,8));"
   ]
  },
  {
   "cell_type": "code",
   "execution_count": 101,
   "metadata": {},
   "outputs": [],
   "source": [
    "df_temp['up_pct'] = (df_temp['up'] - df_temp['mean']) / (df_temp['mean'])"
   ]
  },
  {
   "cell_type": "code",
   "execution_count": 102,
   "metadata": {},
   "outputs": [],
   "source": [
    "df_temp['down_pct'] = (df_temp['down'] - df_temp['mean']) / (df_temp['mean'])"
   ]
  },
  {
   "cell_type": "code",
   "execution_count": null,
   "metadata": {},
   "outputs": [],
   "source": [
    "df_temp = df_930_1030_mid['mean'].to_frame()"
   ]
  },
  {
   "cell_type": "code",
   "execution_count": null,
   "metadata": {
    "collapsed": true
   },
   "outputs": [],
   "source": []
  }
 ],
 "metadata": {
  "kernelspec": {
   "display_name": "Python 2",
   "language": "python",
   "name": "python2"
  },
  "language_info": {
   "codemirror_mode": {
    "name": "ipython",
    "version": 2
   },
   "file_extension": ".py",
   "mimetype": "text/x-python",
   "name": "python",
   "nbconvert_exporter": "python",
   "pygments_lexer": "ipython2",
   "version": "2.7.14"
  }
 },
 "nbformat": 4,
 "nbformat_minor": 2
}
