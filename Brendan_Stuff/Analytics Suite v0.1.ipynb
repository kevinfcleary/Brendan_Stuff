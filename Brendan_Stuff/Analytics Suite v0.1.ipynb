{
 "cells": [
  {
   "cell_type": "markdown",
   "metadata": {},
   "source": [
    "# Analytics Prototype (Elephant Hunter v 0.1)"
   ]
  },
  {
   "cell_type": "markdown",
   "metadata": {},
   "source": [
    "We want to build a flexible analytics suite which can analyze and predict anomalous market motion, and capitalize on it. The end goal is to feed a trained machine learning system tick data, and have it, using historical data, predict the outcomes and their expected payoffs, by ranking the set of possible actions it will provide instructions to conduct automated trading. As a first step, we first want to analyze the behavior of the S&P 500 index in the opening hour of the market 9:30 - 10:30 on Mondays. To do this we will use Python to aggregate the data and then construct a number of descriptive statistics."
   ]
  },
  {
   "cell_type": "markdown",
   "metadata": {},
   "source": [
    "These import statements include the pandas package, which is perfectly suited for data analysis. Datetime to handle the date and time information of the tick data, and matplotlib so that graphs are visible within the notebook."
   ]
  },
  {
   "cell_type": "code",
   "execution_count": 1,
   "metadata": {
    "collapsed": true
   },
   "outputs": [],
   "source": [
    "import pandas as pd\n",
    "import datetime as dt\n",
    "from datetime import datetime, timedelta\n",
    "%matplotlib inline"
   ]
  },
  {
   "cell_type": "markdown",
   "metadata": {},
   "source": [
    "The dates.txt file is a semicolon separated string of numbers generated from Matlab. The file I was given was surrounded by two brackets \"[ ]\" which I went in and deleted. This command generates a list of the dates and trims off the final entry which is blank. It then closes the file."
   ]
  },
  {
   "cell_type": "code",
   "execution_count": 2,
   "metadata": {
    "collapsed": true
   },
   "outputs": [],
   "source": [
    "file = open(\"dates.txt\",\"r\")\n",
    "\n",
    "for line in file:\n",
    "    fields = line.split(\";\")\n",
    "    \n",
    "file.close()\n",
    "\n",
    "fields = fields[:-1]"
   ]
  },
  {
   "cell_type": "markdown",
   "metadata": {},
   "source": [
    "The dates provided are in Matlab format which is a six-digit number and a fraction of the day. We want to identify these numbers with actual dates and times, so the below method converts Matlab times into Pyhton datetimes, which are readily understandable to humans."
   ]
  },
  {
   "cell_type": "code",
   "execution_count": 3,
   "metadata": {
    "collapsed": true
   },
   "outputs": [],
   "source": [
    "def mlt_to_dt(matlab_datenum):\n",
    "    python_datetime = datetime.fromordinal(int(matlab_datenum)) + timedelta(days=matlab_datenum%1) - timedelta(days = 366)\n",
    "    return python_datetime\n",
    "\n",
    "fields = [mlt_to_dt(float(p)) for p in fields]"
   ]
  },
  {
   "cell_type": "markdown",
   "metadata": {},
   "source": [
    "ES.txt is minute-by-minute tick data of the S&P 500 separated by commas, we split the txt file and turn it into a Python list. We again remove the last entry in the list as it is blank."
   ]
  },
  {
   "cell_type": "code",
   "execution_count": 4,
   "metadata": {
    "collapsed": true
   },
   "outputs": [],
   "source": [
    "file = open(\"ES.txt\",\"r\")\n",
    "\n",
    "for line in file:\n",
    "    fields1 = line.split(\",\")\n",
    "    \n",
    "file.close()"
   ]
  },
  {
   "cell_type": "code",
   "execution_count": 5,
   "metadata": {
    "collapsed": true
   },
   "outputs": [],
   "source": [
    "fields1=fields1[:-1]\n",
    "fields1=[float(i) for i in fields1]"
   ]
  },
  {
   "cell_type": "markdown",
   "metadata": {},
   "source": [
    "Now that we have loaded both our datetimes and our S&P Prices into Python, we combine them into a dataframe. This approach is scalable to include many other assets, but for now we'll only include the S&P. There is a built in calendar in Python that we'll use to filter down the available data into trading days before 4pm. "
   ]
  },
  {
   "cell_type": "code",
   "execution_count": 84,
   "metadata": {
    "collapsed": true
   },
   "outputs": [],
   "source": [
    "import datetime\n",
    "from pandas.tseries.holiday import USFederalHolidayCalendar\n",
    "cal = USFederalHolidayCalendar()\n",
    "holidays = cal.holidays(start='2015-11-14', end='2017-11-14').to_pydatetime()\n",
    "\n",
    "df=pd.DataFrame(fields1,index=fields,columns=['ES_price'])\n",
    "df.index = df.index.round('1min')\n",
    "df=df[(df.index.dayofweek<5) & (df.index.hour<16) & (~df.index.isin(holidays))]"
   ]
  },
  {
   "cell_type": "code",
   "execution_count": 85,
   "metadata": {},
   "outputs": [
    {
     "data": {
      "text/html": [
       "<div>\n",
       "<style>\n",
       "    .dataframe thead tr:only-child th {\n",
       "        text-align: right;\n",
       "    }\n",
       "\n",
       "    .dataframe thead th {\n",
       "        text-align: left;\n",
       "    }\n",
       "\n",
       "    .dataframe tbody tr th {\n",
       "        vertical-align: top;\n",
       "    }\n",
       "</style>\n",
       "<table border=\"1\" class=\"dataframe\">\n",
       "  <thead>\n",
       "    <tr style=\"text-align: right;\">\n",
       "      <th></th>\n",
       "      <th>ES_price</th>\n",
       "    </tr>\n",
       "  </thead>\n",
       "  <tbody>\n",
       "    <tr>\n",
       "      <th>count</th>\n",
       "      <td>492543.000000</td>\n",
       "    </tr>\n",
       "    <tr>\n",
       "      <th>mean</th>\n",
       "      <td>2214.545897</td>\n",
       "    </tr>\n",
       "    <tr>\n",
       "      <th>std</th>\n",
       "      <td>201.776074</td>\n",
       "    </tr>\n",
       "    <tr>\n",
       "      <th>min</th>\n",
       "      <td>1767.500000</td>\n",
       "    </tr>\n",
       "    <tr>\n",
       "      <th>25%</th>\n",
       "      <td>2047.000000</td>\n",
       "    </tr>\n",
       "    <tr>\n",
       "      <th>50%</th>\n",
       "      <td>2165.750000</td>\n",
       "    </tr>\n",
       "    <tr>\n",
       "      <th>75%</th>\n",
       "      <td>2390.000000</td>\n",
       "    </tr>\n",
       "    <tr>\n",
       "      <th>max</th>\n",
       "      <td>2593.500000</td>\n",
       "    </tr>\n",
       "  </tbody>\n",
       "</table>\n",
       "</div>"
      ],
      "text/plain": [
       "            ES_price\n",
       "count  492543.000000\n",
       "mean     2214.545897\n",
       "std       201.776074\n",
       "min      1767.500000\n",
       "25%      2047.000000\n",
       "50%      2165.750000\n",
       "75%      2390.000000\n",
       "max      2593.500000"
      ]
     },
     "execution_count": 85,
     "metadata": {},
     "output_type": "execute_result"
    }
   ],
   "source": [
    "df.describe()"
   ]
  },
  {
   "cell_type": "markdown",
   "metadata": {},
   "source": [
    "We see that we have 492,543 data points to work with. Now we will start generating descriptive statistics and analyze a small subsection of the data."
   ]
  },
  {
   "cell_type": "code",
   "execution_count": 86,
   "metadata": {
    "collapsed": true
   },
   "outputs": [],
   "source": [
    "df['price_change'] = df['ES_price'] - df['ES_price'].shift(+1)"
   ]
  },
  {
   "cell_type": "code",
   "execution_count": 87,
   "metadata": {
    "collapsed": true
   },
   "outputs": [],
   "source": [
    "df['2nd'] = df['price_change'] - df['price_change'].shift(+1)"
   ]
  },
  {
   "cell_type": "code",
   "execution_count": 88,
   "metadata": {
    "collapsed": true
   },
   "outputs": [],
   "source": [
    "df['Volatility'] = df['ES_price'].rolling(window=30,center=False).std()"
   ]
  },
  {
   "cell_type": "code",
   "execution_count": 89,
   "metadata": {
    "collapsed": true
   },
   "outputs": [],
   "source": [
    "df['15min_max'] = df['ES_price'].rolling(window=15,center=False).max()"
   ]
  },
  {
   "cell_type": "code",
   "execution_count": 90,
   "metadata": {
    "collapsed": true
   },
   "outputs": [],
   "source": [
    "df['15min_min'] = df['ES_price'].rolling(window=15,center=False).min()"
   ]
  },
  {
   "cell_type": "code",
   "execution_count": 91,
   "metadata": {
    "collapsed": true
   },
   "outputs": [],
   "source": [
    "df['max_min_spread'] = df['15min_max'] - df['15min_min']"
   ]
  },
  {
   "cell_type": "markdown",
   "metadata": {},
   "source": [
    "The above six cells detail the price change, the change of the change in price (or 2nd derivative, 2nd) and rolling volatility with a window of 30 minutes, the 15 minute max and min and the spread between min and max. It is worth noting that the window size of the volatility is adjustable, and center = False guarantees that we only include previous prices in computing our volatility."
   ]
  },
  {
   "cell_type": "markdown",
   "metadata": {},
   "source": [
    "Let's now focus our attention on the time frame of 9:30 to 10:30 each Monday. Below are the descriptive statistics for the change in price from 9:30 to 9:31 on Monday."
   ]
  },
  {
   "cell_type": "code",
   "execution_count": 92,
   "metadata": {
    "collapsed": true
   },
   "outputs": [],
   "source": [
    "df['SMA'] = df['ES_price'].rolling(window=30,center=False).mean()"
   ]
  },
  {
   "cell_type": "code",
   "execution_count": 93,
   "metadata": {},
   "outputs": [],
   "source": [
    "df['Lower_Bollinger'] = df['SMA'] - 2*df['Volatility']\n",
    "df['Upper_Bollinger'] = df['SMA'] + 2*df['Volatility']"
   ]
  },
  {
   "cell_type": "code",
   "execution_count": 105,
   "metadata": {
    "collapsed": true
   },
   "outputs": [],
   "source": []
  },
  {
   "cell_type": "code",
   "execution_count": 106,
   "metadata": {
    "collapsed": true
   },
   "outputs": [],
   "source": [
    "closing_prices=df.groupby(df.index.date).last()['ES_price']\n",
    "df['close'] = [closing_prices[k.date()] for k in df.index]\n",
    "shift_closing_prices=closing_prices.shift(1)\n",
    "df['prev_close']=[shift_closing_prices[k.date()] for k in df.index]"
   ]
  },
  {
   "cell_type": "code",
   "execution_count": 110,
   "metadata": {},
   "outputs": [],
   "source": [
    "df['up_or_down'] = df['close'] - df['prev_close']"
   ]
  },
  {
   "cell_type": "code",
   "execution_count": 111,
   "metadata": {
    "scrolled": true
   },
   "outputs": [
    {
     "data": {
      "text/html": [
       "<div>\n",
       "<style>\n",
       "    .dataframe thead tr:only-child th {\n",
       "        text-align: right;\n",
       "    }\n",
       "\n",
       "    .dataframe thead th {\n",
       "        text-align: left;\n",
       "    }\n",
       "\n",
       "    .dataframe tbody tr th {\n",
       "        vertical-align: top;\n",
       "    }\n",
       "</style>\n",
       "<table border=\"1\" class=\"dataframe\">\n",
       "  <thead>\n",
       "    <tr style=\"text-align: right;\">\n",
       "      <th></th>\n",
       "      <th>ES_price</th>\n",
       "      <th>price_change</th>\n",
       "      <th>2nd</th>\n",
       "      <th>Volatility</th>\n",
       "      <th>15min_max</th>\n",
       "      <th>15min_min</th>\n",
       "      <th>max_min_spread</th>\n",
       "      <th>SMA</th>\n",
       "      <th>Lower_Bollinger</th>\n",
       "      <th>Upper_Bollinger</th>\n",
       "      <th>zero_trending</th>\n",
       "      <th>cum_trending</th>\n",
       "      <th>close</th>\n",
       "      <th>prev_close</th>\n",
       "      <th>up_or_down</th>\n",
       "    </tr>\n",
       "  </thead>\n",
       "  <tbody>\n",
       "    <tr>\n",
       "      <th>count</th>\n",
       "      <td>492543.000000</td>\n",
       "      <td>492542.000000</td>\n",
       "      <td>4.925410e+05</td>\n",
       "      <td>492514.000000</td>\n",
       "      <td>492529.000000</td>\n",
       "      <td>492529.000000</td>\n",
       "      <td>492529.000000</td>\n",
       "      <td>492514.000000</td>\n",
       "      <td>492514.000000</td>\n",
       "      <td>492514.000000</td>\n",
       "      <td>492543.000000</td>\n",
       "      <td>492543.000000</td>\n",
       "      <td>492543.000000</td>\n",
       "      <td>491583.000000</td>\n",
       "      <td>491583.000000</td>\n",
       "    </tr>\n",
       "    <tr>\n",
       "      <th>mean</th>\n",
       "      <td>2214.545897</td>\n",
       "      <td>0.001241</td>\n",
       "      <td>-5.075720e-07</td>\n",
       "      <td>0.801401</td>\n",
       "      <td>2215.463076</td>\n",
       "      <td>2213.612650</td>\n",
       "      <td>1.850426</td>\n",
       "      <td>2214.542592</td>\n",
       "      <td>2212.939789</td>\n",
       "      <td>2216.145395</td>\n",
       "      <td>0.004018</td>\n",
       "      <td>-0.002851</td>\n",
       "      <td>2215.419939</td>\n",
       "      <td>2214.726718</td>\n",
       "      <td>1.105610</td>\n",
       "    </tr>\n",
       "    <tr>\n",
       "      <th>std</th>\n",
       "      <td>201.776074</td>\n",
       "      <td>0.556328</td>\n",
       "      <td>8.101877e-01</td>\n",
       "      <td>0.862714</td>\n",
       "      <td>201.463312</td>\n",
       "      <td>202.076868</td>\n",
       "      <td>1.800865</td>\n",
       "      <td>201.764597</td>\n",
       "      <td>202.309904</td>\n",
       "      <td>201.232607</td>\n",
       "      <td>0.747598</td>\n",
       "      <td>1.519725</td>\n",
       "      <td>201.772376</td>\n",
       "      <td>201.307622</td>\n",
       "      <td>14.368258</td>\n",
       "    </tr>\n",
       "    <tr>\n",
       "      <th>min</th>\n",
       "      <td>1767.500000</td>\n",
       "      <td>-108.000000</td>\n",
       "      <td>-1.087500e+02</td>\n",
       "      <td>0.000000</td>\n",
       "      <td>1772.250000</td>\n",
       "      <td>1767.500000</td>\n",
       "      <td>0.000000</td>\n",
       "      <td>1770.900000</td>\n",
       "      <td>1762.681138</td>\n",
       "      <td>1773.846547</td>\n",
       "      <td>-11.000000</td>\n",
       "      <td>-20.000000</td>\n",
       "      <td>1787.250000</td>\n",
       "      <td>1787.250000</td>\n",
       "      <td>-77.250000</td>\n",
       "    </tr>\n",
       "    <tr>\n",
       "      <th>25%</th>\n",
       "      <td>2047.000000</td>\n",
       "      <td>-0.250000</td>\n",
       "      <td>-2.500000e-01</td>\n",
       "      <td>0.356487</td>\n",
       "      <td>2048.000000</td>\n",
       "      <td>2046.250000</td>\n",
       "      <td>0.750000</td>\n",
       "      <td>2047.091667</td>\n",
       "      <td>2045.612636</td>\n",
       "      <td>2048.656685</td>\n",
       "      <td>0.000000</td>\n",
       "      <td>-1.000000</td>\n",
       "      <td>2048.250000</td>\n",
       "      <td>2048.250000</td>\n",
       "      <td>-4.500000</td>\n",
       "    </tr>\n",
       "    <tr>\n",
       "      <th>50%</th>\n",
       "      <td>2165.750000</td>\n",
       "      <td>0.000000</td>\n",
       "      <td>0.000000e+00</td>\n",
       "      <td>0.573856</td>\n",
       "      <td>2166.500000</td>\n",
       "      <td>2165.250000</td>\n",
       "      <td>1.250000</td>\n",
       "      <td>2165.783333</td>\n",
       "      <td>2164.828820</td>\n",
       "      <td>2166.855505</td>\n",
       "      <td>0.000000</td>\n",
       "      <td>0.000000</td>\n",
       "      <td>2166.500000</td>\n",
       "      <td>2166.500000</td>\n",
       "      <td>1.000000</td>\n",
       "    </tr>\n",
       "    <tr>\n",
       "      <th>75%</th>\n",
       "      <td>2390.000000</td>\n",
       "      <td>0.250000</td>\n",
       "      <td>2.500000e-01</td>\n",
       "      <td>0.975306</td>\n",
       "      <td>2390.500000</td>\n",
       "      <td>2389.750000</td>\n",
       "      <td>2.250000</td>\n",
       "      <td>2390.083333</td>\n",
       "      <td>2389.213391</td>\n",
       "      <td>2391.007434</td>\n",
       "      <td>0.000000</td>\n",
       "      <td>1.000000</td>\n",
       "      <td>2391.750000</td>\n",
       "      <td>2391.750000</td>\n",
       "      <td>8.250000</td>\n",
       "    </tr>\n",
       "    <tr>\n",
       "      <th>max</th>\n",
       "      <td>2593.500000</td>\n",
       "      <td>25.750000</td>\n",
       "      <td>1.080000e+02</td>\n",
       "      <td>55.327944</td>\n",
       "      <td>2593.500000</td>\n",
       "      <td>2592.750000</td>\n",
       "      <td>112.250000</td>\n",
       "      <td>2592.933333</td>\n",
       "      <td>2592.519493</td>\n",
       "      <td>2594.299881</td>\n",
       "      <td>12.000000</td>\n",
       "      <td>19.000000</td>\n",
       "      <td>2591.500000</td>\n",
       "      <td>2591.500000</td>\n",
       "      <td>47.250000</td>\n",
       "    </tr>\n",
       "  </tbody>\n",
       "</table>\n",
       "</div>"
      ],
      "text/plain": [
       "            ES_price   price_change           2nd     Volatility  \\\n",
       "count  492543.000000  492542.000000  4.925410e+05  492514.000000   \n",
       "mean     2214.545897       0.001241 -5.075720e-07       0.801401   \n",
       "std       201.776074       0.556328  8.101877e-01       0.862714   \n",
       "min      1767.500000    -108.000000 -1.087500e+02       0.000000   \n",
       "25%      2047.000000      -0.250000 -2.500000e-01       0.356487   \n",
       "50%      2165.750000       0.000000  0.000000e+00       0.573856   \n",
       "75%      2390.000000       0.250000  2.500000e-01       0.975306   \n",
       "max      2593.500000      25.750000  1.080000e+02      55.327944   \n",
       "\n",
       "           15min_max      15min_min  max_min_spread            SMA  \\\n",
       "count  492529.000000  492529.000000   492529.000000  492514.000000   \n",
       "mean     2215.463076    2213.612650        1.850426    2214.542592   \n",
       "std       201.463312     202.076868        1.800865     201.764597   \n",
       "min      1772.250000    1767.500000        0.000000    1770.900000   \n",
       "25%      2048.000000    2046.250000        0.750000    2047.091667   \n",
       "50%      2166.500000    2165.250000        1.250000    2165.783333   \n",
       "75%      2390.500000    2389.750000        2.250000    2390.083333   \n",
       "max      2593.500000    2592.750000      112.250000    2592.933333   \n",
       "\n",
       "       Lower_Bollinger  Upper_Bollinger  zero_trending   cum_trending  \\\n",
       "count    492514.000000    492514.000000  492543.000000  492543.000000   \n",
       "mean       2212.939789      2216.145395       0.004018      -0.002851   \n",
       "std         202.309904       201.232607       0.747598       1.519725   \n",
       "min        1762.681138      1773.846547     -11.000000     -20.000000   \n",
       "25%        2045.612636      2048.656685       0.000000      -1.000000   \n",
       "50%        2164.828820      2166.855505       0.000000       0.000000   \n",
       "75%        2389.213391      2391.007434       0.000000       1.000000   \n",
       "max        2592.519493      2594.299881      12.000000      19.000000   \n",
       "\n",
       "               close     prev_close     up_or_down  \n",
       "count  492543.000000  491583.000000  491583.000000  \n",
       "mean     2215.419939    2214.726718       1.105610  \n",
       "std       201.772376     201.307622      14.368258  \n",
       "min      1787.250000    1787.250000     -77.250000  \n",
       "25%      2048.250000    2048.250000      -4.500000  \n",
       "50%      2166.500000    2166.500000       1.000000  \n",
       "75%      2391.750000    2391.750000       8.250000  \n",
       "max      2591.500000    2591.500000      47.250000  "
      ]
     },
     "execution_count": 111,
     "metadata": {},
     "output_type": "execute_result"
    }
   ],
   "source": [
    "df.describe()"
   ]
  },
  {
   "cell_type": "markdown",
   "metadata": {},
   "source": [
    "Here we construct two notions of market trends, in this case, this is just because I'm personally unsure which serves as a better measure (In a context that features volume, this would be replaced with market momentum, which is more in the spirit of what I call cumulative trending). The two measures are zero trending and cumulative trending. Zero trending is computed in the following way: if market motion continues to go in one direction it adds, for example a positive price change, followed by a positive price change will generate one trending unit, conversely two negative price changes will subtract one unit, if there is a positive/negative or negative/positive the zero trending is set to zero. Cumulative trending is simply adding 1 if the change is positive, or subtracting 1 if the change is negative."
   ]
  },
  {
   "cell_type": "code",
   "execution_count": 94,
   "metadata": {
    "collapsed": true
   },
   "outputs": [],
   "source": [
    "change = df['price_change'].tolist()"
   ]
  },
  {
   "cell_type": "markdown",
   "metadata": {},
   "source": [
    "The cell below computes zero trending"
   ]
  },
  {
   "cell_type": "code",
   "execution_count": 95,
   "metadata": {},
   "outputs": [],
   "source": [
    "Trending = [0] * len(change)\n",
    "for i in range(2,len(change)):\n",
    "    if((change[i] > 0) & (change[i-1] > 0)):\n",
    "        Trending[i] = Trending[i-1] + 1\n",
    "    elif((change[i] < 0) & (change[i-1] < 0)):\n",
    "        Trending[i] = Trending[i-1] - 1\n",
    "    else:\n",
    "        Trending[i] = 0\n",
    "        \n",
    "df['zero_trending'] = Trending"
   ]
  },
  {
   "cell_type": "markdown",
   "metadata": {},
   "source": [
    "The cell below computes cumulative trending"
   ]
  },
  {
   "cell_type": "code",
   "execution_count": 96,
   "metadata": {
    "collapsed": true
   },
   "outputs": [],
   "source": [
    "Trending = [0] * len(change)\n",
    "for i in range(2,len(change)):\n",
    "    if(change[i] > 0):\n",
    "        Trending[i] = Trending[i-1] + 1\n",
    "    elif(change[i] < 0):\n",
    "        Trending[i] = Trending[i-1] - 1\n",
    "    else:\n",
    "        Trending[i] = 0\n",
    "\n",
    "df['cum_trending'] = Trending        "
   ]
  },
  {
   "cell_type": "markdown",
   "metadata": {},
   "source": [
    "# 9:30 - 10:30 S&P Action "
   ]
  },
  {
   "cell_type": "code",
   "execution_count": 16,
   "metadata": {},
   "outputs": [
    {
     "data": {
      "text/plain": [
       "count    103.000000\n",
       "mean       0.160194\n",
       "std        0.923452\n",
       "min       -2.750000\n",
       "25%       -0.500000\n",
       "50%        0.250000\n",
       "75%        0.750000\n",
       "max        2.250000\n",
       "Name: price_change, dtype: float64"
      ]
     },
     "execution_count": 16,
     "metadata": {},
     "output_type": "execute_result"
    }
   ],
   "source": [
    "df[(df.index.weekday == 0) & (df.index.hour == 9) & (df.index.minute==31)]['price_change'].describe()"
   ]
  },
  {
   "cell_type": "markdown",
   "metadata": {},
   "source": [
    "We see that the average move is 0.16 ticks, and the upper quartile of moves (meaning the top 25% of price changes) fall between 0.75 and 2.25. We want to further examine the set of events which have large (upper quartile) price changes and use the subsequent motion of the underlying to see what is average for large initial moves. Below we also see histograms of the price change, and the second derivative. We notice that the average second derivative is positive."
   ]
  },
  {
   "cell_type": "code",
   "execution_count": 17,
   "metadata": {},
   "outputs": [
    {
     "data": {
      "text/plain": [
       "<matplotlib.axes._subplots.AxesSubplot at 0x112b79090>"
      ]
     },
     "execution_count": 17,
     "metadata": {},
     "output_type": "execute_result"
    },
    {
     "data": {
      "image/png": "[encoded data removed]",
      "text/plain": [
       "<matplotlib.figure.Figure at 0x10c56a7d0>"
      ]
     },
     "metadata": {},
     "output_type": "display_data"
    }
   ],
   "source": [
    "df[(df.index.weekday == 0) & (df.index.hour == 9) & (df.index.minute==31)]['price_change'].hist()"
   ]
  },
  {
   "cell_type": "code",
   "execution_count": 18,
   "metadata": {},
   "outputs": [
    {
     "data": {
      "text/plain": [
       "count    103.000000\n",
       "mean       0.177184\n",
       "std        1.414054\n",
       "min       -3.500000\n",
       "25%       -0.750000\n",
       "50%        0.000000\n",
       "75%        1.000000\n",
       "max        4.250000\n",
       "Name: 2nd, dtype: float64"
      ]
     },
     "execution_count": 18,
     "metadata": {},
     "output_type": "execute_result"
    }
   ],
   "source": [
    "df[(df.index.weekday == 0) & (df.index.hour == 9) & (df.index.minute==31)]['2nd'].describe()"
   ]
  },
  {
   "cell_type": "code",
   "execution_count": 19,
   "metadata": {},
   "outputs": [
    {
     "data": {
      "text/plain": [
       "<matplotlib.axes._subplots.AxesSubplot at 0x114fe6810>"
      ]
     },
     "execution_count": 19,
     "metadata": {},
     "output_type": "execute_result"
    },
    {
     "data": {
      "image/png": "[encoded data removed]",
      "text/plain": [
       "<matplotlib.figure.Figure at 0x10ff02dd0>"
      ]
     },
     "metadata": {},
     "output_type": "display_data"
    }
   ],
   "source": [
    "df[(df.index.weekday == 0) & (df.index.hour == 9) & (df.index.minute==31)]['2nd'].hist()"
   ]
  },
  {
   "cell_type": "markdown",
   "metadata": {},
   "source": [
    "Here we construct 4 empty lists and cycle through the aggregated data of tick data for which the 9:31 price increase is in the top 25% of events (>= 0.75). We append to these lists descriptive statistics. We then pass these four lists into a data frame and print the data frame. Included in the data frame is a column for the cumulative return,which is the cumulative sum of price changes. "
   ]
  },
  {
   "cell_type": "code",
   "execution_count": 44,
   "metadata": {},
   "outputs": [],
   "source": [
    "minimums = []\n",
    "maximums = []\n",
    "mean_returns = []\n",
    "std_dev = []\n",
    "lower_quartile = []\n",
    "upper_quartile = []\n",
    "time_window=pd.date_range(\"09:32\", \"10:30\", freq=\"1min\").time\n",
    "for i in range(1,60): \n",
    "    if(i < 29):\n",
    "        minimums.append(df[(df.index.weekday == 0) & (df.index.hour == 9) & (df.index.minute==31+i) & (df.price_change.shift(i) >= 0.75)]['price_change'].min())\n",
    "        maximums.append(df[(df.index.weekday == 0) & (df.index.hour == 9) & (df.index.minute==31+i) & (df.price_change.shift(i) >= 0.75)]['price_change'].max())\n",
    "        mean_returns.append(df[(df.index.weekday == 0) & (df.index.hour == 9) & (df.index.minute==31+i) & (df.price_change.shift(i) >= 0.75)]['price_change'].mean())\n",
    "        std_dev.append(df[(df.index.weekday == 0) & (df.index.hour == 9) & (df.index.minute==31+i) & (df.price_change.shift(i) >= 0.75)]['price_change'].std())\n",
    "        upper_quartile.append(df[(df.index.weekday == 0) & (df.index.hour == 9) & (df.index.minute==31+i) & (df.price_change.shift(i) >= 0.75)]['price_change'].quantile(.75))\n",
    "        lower_quartile.append(df[(df.index.weekday == 0) & (df.index.hour == 9) & (df.index.minute==31+i) & (df.price_change.shift(i) >= 0.75)]['price_change'].quantile(.25))\n",
    "        i+=1\n",
    "    elif(i >= 29):\n",
    "        minimums.append(df[(df.index.weekday == 0) & (df.index.hour == 10) & (df.index.minute==i-29) & (df.price_change.shift(i) >= 0.75)]['price_change'].min())\n",
    "        maximums.append(df[(df.index.weekday == 0) & (df.index.hour == 10) & (df.index.minute==i-29) & (df.price_change.shift(i) >= 0.75)]['price_change'].max())\n",
    "        mean_returns.append(df[(df.index.weekday == 0) & (df.index.hour == 10) & (df.index.minute==i-29) & (df.price_change.shift(i) >= 0.75)]['price_change'].mean())\n",
    "        std_dev.append(df[(df.index.weekday == 0) & (df.index.hour == 10) & (df.index.minute==i-29) & (df.price_change.shift(i) >= 0.75)]['price_change'].std())\n",
    "        upper_quartile.append(df[(df.index.weekday == 0) & (df.index.hour == 10) & (df.index.minute==i-29) & (df.price_change.shift(i) >= 0.75)]['price_change'].quantile(.75))\n",
    "        lower_quartile.append(df[(df.index.weekday == 0) & (df.index.hour == 10) & (df.index.minute==i-29) & (df.price_change.shift(i) >= 0.75)]['price_change'].quantile(.25))\n",
    "        i+=1\n"
   ]
  },
  {
   "cell_type": "code",
   "execution_count": 141,
   "metadata": {
    "collapsed": true
   },
   "outputs": [],
   "source": [
    "df_930_1030=pd.DataFrame(minimums,index=time_window,columns=['min'])\n",
    "df_930_1030['max'] = maximums\n",
    "df_930_1030['mean'] = mean_returns\n",
    "df_930_1030['std_dev'] = std_dev\n",
    "df_930_1030['upper_quartile'] = upper_quartile\n",
    "df_930_1030['lower_quartile'] = lower_quartile\n",
    "df_930_1030['cumulative_return'] = df_930_1030['mean'].cumsum(axis = 0)\n",
    "df_930_1030['max_min_spread'] = df_930_1030['max'] - df_930_1030['min']"
   ]
  },
  {
   "cell_type": "code",
   "execution_count": 140,
   "metadata": {},
   "outputs": [
    {
     "data": {
      "text/html": [
       "<div>\n",
       "<style>\n",
       "    .dataframe thead tr:only-child th {\n",
       "        text-align: right;\n",
       "    }\n",
       "\n",
       "    .dataframe thead th {\n",
       "        text-align: left;\n",
       "    }\n",
       "\n",
       "    .dataframe tbody tr th {\n",
       "        vertical-align: top;\n",
       "    }\n",
       "</style>\n",
       "<table border=\"1\" class=\"dataframe\">\n",
       "  <thead>\n",
       "    <tr style=\"text-align: right;\">\n",
       "      <th></th>\n",
       "      <th>min</th>\n",
       "      <th>max</th>\n",
       "      <th>mean</th>\n",
       "      <th>std_dev</th>\n",
       "      <th>upper_quartile</th>\n",
       "      <th>lower_quartile</th>\n",
       "      <th>cumulative_return</th>\n",
       "      <th>max_min_spread</th>\n",
       "      <th>max_min_spread_sma</th>\n",
       "    </tr>\n",
       "  </thead>\n",
       "  <tbody>\n",
       "    <tr>\n",
       "      <th>09:32:00</th>\n",
       "      <td>-2.50</td>\n",
       "      <td>1.75</td>\n",
       "      <td>-0.416667</td>\n",
       "      <td>1.174218</td>\n",
       "      <td>0.2500</td>\n",
       "      <td>-1.0625</td>\n",
       "      <td>-0.416667</td>\n",
       "      <td>4.25</td>\n",
       "      <td>NaN</td>\n",
       "    </tr>\n",
       "    <tr>\n",
       "      <th>09:33:00</th>\n",
       "      <td>-1.50</td>\n",
       "      <td>1.25</td>\n",
       "      <td>-0.062500</td>\n",
       "      <td>0.966043</td>\n",
       "      <td>0.6250</td>\n",
       "      <td>-0.8125</td>\n",
       "      <td>-0.479167</td>\n",
       "      <td>2.75</td>\n",
       "      <td>NaN</td>\n",
       "    </tr>\n",
       "    <tr>\n",
       "      <th>09:34:00</th>\n",
       "      <td>-1.50</td>\n",
       "      <td>2.00</td>\n",
       "      <td>-0.104167</td>\n",
       "      <td>1.110172</td>\n",
       "      <td>0.6250</td>\n",
       "      <td>-0.8750</td>\n",
       "      <td>-0.583333</td>\n",
       "      <td>3.50</td>\n",
       "      <td>NaN</td>\n",
       "    </tr>\n",
       "    <tr>\n",
       "      <th>09:35:00</th>\n",
       "      <td>-2.25</td>\n",
       "      <td>2.00</td>\n",
       "      <td>-0.479167</td>\n",
       "      <td>1.140466</td>\n",
       "      <td>0.1250</td>\n",
       "      <td>-1.2500</td>\n",
       "      <td>-1.062500</td>\n",
       "      <td>4.25</td>\n",
       "      <td>NaN</td>\n",
       "    </tr>\n",
       "    <tr>\n",
       "      <th>09:36:00</th>\n",
       "      <td>-3.00</td>\n",
       "      <td>0.75</td>\n",
       "      <td>-0.708333</td>\n",
       "      <td>1.147296</td>\n",
       "      <td>0.0000</td>\n",
       "      <td>-1.1250</td>\n",
       "      <td>-1.770833</td>\n",
       "      <td>3.75</td>\n",
       "      <td>NaN</td>\n",
       "    </tr>\n",
       "    <tr>\n",
       "      <th>09:37:00</th>\n",
       "      <td>-1.50</td>\n",
       "      <td>2.00</td>\n",
       "      <td>0.062500</td>\n",
       "      <td>0.971907</td>\n",
       "      <td>0.5625</td>\n",
       "      <td>-0.3750</td>\n",
       "      <td>-1.708333</td>\n",
       "      <td>3.50</td>\n",
       "      <td>NaN</td>\n",
       "    </tr>\n",
       "    <tr>\n",
       "      <th>09:38:00</th>\n",
       "      <td>-1.75</td>\n",
       "      <td>2.50</td>\n",
       "      <td>0.062500</td>\n",
       "      <td>1.197179</td>\n",
       "      <td>0.7500</td>\n",
       "      <td>-0.6250</td>\n",
       "      <td>-1.645833</td>\n",
       "      <td>4.25</td>\n",
       "      <td>NaN</td>\n",
       "    </tr>\n",
       "    <tr>\n",
       "      <th>09:39:00</th>\n",
       "      <td>-1.25</td>\n",
       "      <td>1.50</td>\n",
       "      <td>0.041667</td>\n",
       "      <td>0.871476</td>\n",
       "      <td>0.5625</td>\n",
       "      <td>-0.7500</td>\n",
       "      <td>-1.604167</td>\n",
       "      <td>2.75</td>\n",
       "      <td>NaN</td>\n",
       "    </tr>\n",
       "    <tr>\n",
       "      <th>09:40:00</th>\n",
       "      <td>-2.50</td>\n",
       "      <td>1.75</td>\n",
       "      <td>-0.208333</td>\n",
       "      <td>1.147296</td>\n",
       "      <td>0.3750</td>\n",
       "      <td>-0.8125</td>\n",
       "      <td>-1.812500</td>\n",
       "      <td>4.25</td>\n",
       "      <td>NaN</td>\n",
       "    </tr>\n",
       "    <tr>\n",
       "      <th>09:41:00</th>\n",
       "      <td>-1.25</td>\n",
       "      <td>1.00</td>\n",
       "      <td>-0.083333</td>\n",
       "      <td>0.841625</td>\n",
       "      <td>0.7500</td>\n",
       "      <td>-0.6875</td>\n",
       "      <td>-1.895833</td>\n",
       "      <td>2.25</td>\n",
       "      <td>NaN</td>\n",
       "    </tr>\n",
       "    <tr>\n",
       "      <th>09:42:00</th>\n",
       "      <td>-3.50</td>\n",
       "      <td>2.00</td>\n",
       "      <td>-0.104167</td>\n",
       "      <td>1.298856</td>\n",
       "      <td>0.5000</td>\n",
       "      <td>-0.5000</td>\n",
       "      <td>-2.000000</td>\n",
       "      <td>5.50</td>\n",
       "      <td>NaN</td>\n",
       "    </tr>\n",
       "    <tr>\n",
       "      <th>09:43:00</th>\n",
       "      <td>-2.00</td>\n",
       "      <td>1.00</td>\n",
       "      <td>-0.312500</td>\n",
       "      <td>0.873375</td>\n",
       "      <td>0.2500</td>\n",
       "      <td>-0.8125</td>\n",
       "      <td>-2.312500</td>\n",
       "      <td>3.00</td>\n",
       "      <td>NaN</td>\n",
       "    </tr>\n",
       "    <tr>\n",
       "      <th>09:44:00</th>\n",
       "      <td>-1.25</td>\n",
       "      <td>1.00</td>\n",
       "      <td>0.125000</td>\n",
       "      <td>0.669973</td>\n",
       "      <td>0.5625</td>\n",
       "      <td>-0.1250</td>\n",
       "      <td>-2.187500</td>\n",
       "      <td>2.25</td>\n",
       "      <td>NaN</td>\n",
       "    </tr>\n",
       "    <tr>\n",
       "      <th>09:45:00</th>\n",
       "      <td>-1.25</td>\n",
       "      <td>1.50</td>\n",
       "      <td>-0.041667</td>\n",
       "      <td>0.903487</td>\n",
       "      <td>0.3125</td>\n",
       "      <td>-0.6250</td>\n",
       "      <td>-2.229167</td>\n",
       "      <td>2.75</td>\n",
       "      <td>NaN</td>\n",
       "    </tr>\n",
       "    <tr>\n",
       "      <th>09:46:00</th>\n",
       "      <td>-1.25</td>\n",
       "      <td>1.00</td>\n",
       "      <td>-0.020833</td>\n",
       "      <td>0.849186</td>\n",
       "      <td>0.5625</td>\n",
       "      <td>-0.6250</td>\n",
       "      <td>-2.250000</td>\n",
       "      <td>2.25</td>\n",
       "      <td>NaN</td>\n",
       "    </tr>\n",
       "    <tr>\n",
       "      <th>09:47:00</th>\n",
       "      <td>-0.50</td>\n",
       "      <td>1.50</td>\n",
       "      <td>0.395833</td>\n",
       "      <td>0.634772</td>\n",
       "      <td>1.0000</td>\n",
       "      <td>0.0000</td>\n",
       "      <td>-1.854167</td>\n",
       "      <td>2.00</td>\n",
       "      <td>NaN</td>\n",
       "    </tr>\n",
       "    <tr>\n",
       "      <th>09:48:00</th>\n",
       "      <td>-1.75</td>\n",
       "      <td>1.25</td>\n",
       "      <td>-0.145833</td>\n",
       "      <td>0.800982</td>\n",
       "      <td>0.2500</td>\n",
       "      <td>-0.5625</td>\n",
       "      <td>-2.000000</td>\n",
       "      <td>3.00</td>\n",
       "      <td>NaN</td>\n",
       "    </tr>\n",
       "    <tr>\n",
       "      <th>09:49:00</th>\n",
       "      <td>-1.50</td>\n",
       "      <td>1.00</td>\n",
       "      <td>0.062500</td>\n",
       "      <td>0.784256</td>\n",
       "      <td>0.7500</td>\n",
       "      <td>-0.5000</td>\n",
       "      <td>-1.937500</td>\n",
       "      <td>2.50</td>\n",
       "      <td>NaN</td>\n",
       "    </tr>\n",
       "    <tr>\n",
       "      <th>09:50:00</th>\n",
       "      <td>-2.00</td>\n",
       "      <td>2.50</td>\n",
       "      <td>-0.041667</td>\n",
       "      <td>1.200536</td>\n",
       "      <td>0.7500</td>\n",
       "      <td>-0.6250</td>\n",
       "      <td>-1.979167</td>\n",
       "      <td>4.50</td>\n",
       "      <td>NaN</td>\n",
       "    </tr>\n",
       "    <tr>\n",
       "      <th>09:51:00</th>\n",
       "      <td>-0.50</td>\n",
       "      <td>1.75</td>\n",
       "      <td>0.250000</td>\n",
       "      <td>0.722999</td>\n",
       "      <td>0.7500</td>\n",
       "      <td>-0.2500</td>\n",
       "      <td>-1.729167</td>\n",
       "      <td>2.25</td>\n",
       "      <td>NaN</td>\n",
       "    </tr>\n",
       "    <tr>\n",
       "      <th>09:52:00</th>\n",
       "      <td>-1.25</td>\n",
       "      <td>1.75</td>\n",
       "      <td>-0.062500</td>\n",
       "      <td>0.754720</td>\n",
       "      <td>0.0625</td>\n",
       "      <td>-0.5000</td>\n",
       "      <td>-1.791667</td>\n",
       "      <td>3.00</td>\n",
       "      <td>NaN</td>\n",
       "    </tr>\n",
       "    <tr>\n",
       "      <th>09:53:00</th>\n",
       "      <td>-1.50</td>\n",
       "      <td>1.00</td>\n",
       "      <td>-0.020833</td>\n",
       "      <td>0.757225</td>\n",
       "      <td>0.5000</td>\n",
       "      <td>-0.5625</td>\n",
       "      <td>-1.812500</td>\n",
       "      <td>2.50</td>\n",
       "      <td>NaN</td>\n",
       "    </tr>\n",
       "    <tr>\n",
       "      <th>09:54:00</th>\n",
       "      <td>-2.25</td>\n",
       "      <td>0.50</td>\n",
       "      <td>-0.250000</td>\n",
       "      <td>0.790569</td>\n",
       "      <td>0.2500</td>\n",
       "      <td>-0.5625</td>\n",
       "      <td>-2.062500</td>\n",
       "      <td>2.75</td>\n",
       "      <td>NaN</td>\n",
       "    </tr>\n",
       "    <tr>\n",
       "      <th>09:55:00</th>\n",
       "      <td>-0.75</td>\n",
       "      <td>0.75</td>\n",
       "      <td>0.020833</td>\n",
       "      <td>0.588317</td>\n",
       "      <td>0.5000</td>\n",
       "      <td>-0.5625</td>\n",
       "      <td>-2.041667</td>\n",
       "      <td>1.50</td>\n",
       "      <td>NaN</td>\n",
       "    </tr>\n",
       "    <tr>\n",
       "      <th>09:56:00</th>\n",
       "      <td>-1.00</td>\n",
       "      <td>1.50</td>\n",
       "      <td>-0.145833</td>\n",
       "      <td>0.652428</td>\n",
       "      <td>0.0000</td>\n",
       "      <td>-0.5000</td>\n",
       "      <td>-2.187500</td>\n",
       "      <td>2.50</td>\n",
       "      <td>NaN</td>\n",
       "    </tr>\n",
       "    <tr>\n",
       "      <th>09:57:00</th>\n",
       "      <td>-0.75</td>\n",
       "      <td>1.00</td>\n",
       "      <td>0.166667</td>\n",
       "      <td>0.547031</td>\n",
       "      <td>0.5625</td>\n",
       "      <td>-0.2500</td>\n",
       "      <td>-2.020833</td>\n",
       "      <td>1.75</td>\n",
       "      <td>NaN</td>\n",
       "    </tr>\n",
       "    <tr>\n",
       "      <th>09:58:00</th>\n",
       "      <td>-1.25</td>\n",
       "      <td>1.25</td>\n",
       "      <td>0.000000</td>\n",
       "      <td>0.722999</td>\n",
       "      <td>0.3125</td>\n",
       "      <td>-0.5000</td>\n",
       "      <td>-2.020833</td>\n",
       "      <td>2.50</td>\n",
       "      <td>NaN</td>\n",
       "    </tr>\n",
       "    <tr>\n",
       "      <th>09:59:00</th>\n",
       "      <td>-1.00</td>\n",
       "      <td>0.75</td>\n",
       "      <td>-0.083333</td>\n",
       "      <td>0.525847</td>\n",
       "      <td>0.3125</td>\n",
       "      <td>-0.3125</td>\n",
       "      <td>-2.104167</td>\n",
       "      <td>1.75</td>\n",
       "      <td>NaN</td>\n",
       "    </tr>\n",
       "    <tr>\n",
       "      <th>10:00:00</th>\n",
       "      <td>-3.25</td>\n",
       "      <td>1.00</td>\n",
       "      <td>-0.562500</td>\n",
       "      <td>1.012002</td>\n",
       "      <td>0.0000</td>\n",
       "      <td>-0.8125</td>\n",
       "      <td>-2.666667</td>\n",
       "      <td>4.25</td>\n",
       "      <td>NaN</td>\n",
       "    </tr>\n",
       "    <tr>\n",
       "      <th>10:01:00</th>\n",
       "      <td>-0.50</td>\n",
       "      <td>1.25</td>\n",
       "      <td>0.333333</td>\n",
       "      <td>0.525847</td>\n",
       "      <td>0.7500</td>\n",
       "      <td>0.0000</td>\n",
       "      <td>-2.333333</td>\n",
       "      <td>1.75</td>\n",
       "      <td>NaN</td>\n",
       "    </tr>\n",
       "    <tr>\n",
       "      <th>10:02:00</th>\n",
       "      <td>-1.00</td>\n",
       "      <td>2.50</td>\n",
       "      <td>0.208333</td>\n",
       "      <td>0.922160</td>\n",
       "      <td>0.5000</td>\n",
       "      <td>-0.3125</td>\n",
       "      <td>-2.125000</td>\n",
       "      <td>3.50</td>\n",
       "      <td>NaN</td>\n",
       "    </tr>\n",
       "    <tr>\n",
       "      <th>10:03:00</th>\n",
       "      <td>-3.00</td>\n",
       "      <td>1.25</td>\n",
       "      <td>-0.104167</td>\n",
       "      <td>1.115278</td>\n",
       "      <td>0.7500</td>\n",
       "      <td>-0.5000</td>\n",
       "      <td>-2.229167</td>\n",
       "      <td>4.25</td>\n",
       "      <td>NaN</td>\n",
       "    </tr>\n",
       "    <tr>\n",
       "      <th>10:04:00</th>\n",
       "      <td>-1.75</td>\n",
       "      <td>1.75</td>\n",
       "      <td>-0.083333</td>\n",
       "      <td>1.035360</td>\n",
       "      <td>0.8125</td>\n",
       "      <td>-0.8125</td>\n",
       "      <td>-2.312500</td>\n",
       "      <td>3.50</td>\n",
       "      <td>NaN</td>\n",
       "    </tr>\n",
       "    <tr>\n",
       "      <th>10:05:00</th>\n",
       "      <td>-1.25</td>\n",
       "      <td>1.50</td>\n",
       "      <td>0.104167</td>\n",
       "      <td>0.869027</td>\n",
       "      <td>0.5625</td>\n",
       "      <td>-0.3750</td>\n",
       "      <td>-2.208333</td>\n",
       "      <td>2.75</td>\n",
       "      <td>NaN</td>\n",
       "    </tr>\n",
       "    <tr>\n",
       "      <th>10:06:00</th>\n",
       "      <td>-1.00</td>\n",
       "      <td>2.75</td>\n",
       "      <td>0.166667</td>\n",
       "      <td>1.249242</td>\n",
       "      <td>0.8750</td>\n",
       "      <td>-0.8125</td>\n",
       "      <td>-2.041667</td>\n",
       "      <td>3.75</td>\n",
       "      <td>NaN</td>\n",
       "    </tr>\n",
       "    <tr>\n",
       "      <th>10:07:00</th>\n",
       "      <td>-3.00</td>\n",
       "      <td>0.75</td>\n",
       "      <td>-0.395833</td>\n",
       "      <td>1.030547</td>\n",
       "      <td>0.2500</td>\n",
       "      <td>-0.6250</td>\n",
       "      <td>-2.437500</td>\n",
       "      <td>3.75</td>\n",
       "      <td>NaN</td>\n",
       "    </tr>\n",
       "    <tr>\n",
       "      <th>10:08:00</th>\n",
       "      <td>-1.50</td>\n",
       "      <td>1.00</td>\n",
       "      <td>0.208333</td>\n",
       "      <td>0.705766</td>\n",
       "      <td>0.5625</td>\n",
       "      <td>-0.2500</td>\n",
       "      <td>-2.229167</td>\n",
       "      <td>2.50</td>\n",
       "      <td>NaN</td>\n",
       "    </tr>\n",
       "    <tr>\n",
       "      <th>10:09:00</th>\n",
       "      <td>-1.75</td>\n",
       "      <td>1.75</td>\n",
       "      <td>0.000000</td>\n",
       "      <td>0.977008</td>\n",
       "      <td>0.3750</td>\n",
       "      <td>-0.4375</td>\n",
       "      <td>-2.229167</td>\n",
       "      <td>3.50</td>\n",
       "      <td>NaN</td>\n",
       "    </tr>\n",
       "    <tr>\n",
       "      <th>10:10:00</th>\n",
       "      <td>-1.50</td>\n",
       "      <td>2.00</td>\n",
       "      <td>0.187500</td>\n",
       "      <td>0.911573</td>\n",
       "      <td>0.5000</td>\n",
       "      <td>-0.3125</td>\n",
       "      <td>-2.041667</td>\n",
       "      <td>3.50</td>\n",
       "      <td>NaN</td>\n",
       "    </tr>\n",
       "    <tr>\n",
       "      <th>10:11:00</th>\n",
       "      <td>-1.25</td>\n",
       "      <td>1.75</td>\n",
       "      <td>0.125000</td>\n",
       "      <td>0.772393</td>\n",
       "      <td>0.5625</td>\n",
       "      <td>-0.3125</td>\n",
       "      <td>-1.916667</td>\n",
       "      <td>3.00</td>\n",
       "      <td>NaN</td>\n",
       "    </tr>\n",
       "    <tr>\n",
       "      <th>10:12:00</th>\n",
       "      <td>-1.50</td>\n",
       "      <td>0.25</td>\n",
       "      <td>-0.354167</td>\n",
       "      <td>0.527196</td>\n",
       "      <td>0.0000</td>\n",
       "      <td>-0.5625</td>\n",
       "      <td>-2.270833</td>\n",
       "      <td>1.75</td>\n",
       "      <td>NaN</td>\n",
       "    </tr>\n",
       "    <tr>\n",
       "      <th>10:13:00</th>\n",
       "      <td>-1.25</td>\n",
       "      <td>1.25</td>\n",
       "      <td>-0.104167</td>\n",
       "      <td>0.710780</td>\n",
       "      <td>0.3125</td>\n",
       "      <td>-0.5625</td>\n",
       "      <td>-2.375000</td>\n",
       "      <td>2.50</td>\n",
       "      <td>NaN</td>\n",
       "    </tr>\n",
       "    <tr>\n",
       "      <th>10:14:00</th>\n",
       "      <td>-0.75</td>\n",
       "      <td>1.75</td>\n",
       "      <td>0.000000</td>\n",
       "      <td>0.674200</td>\n",
       "      <td>0.0625</td>\n",
       "      <td>-0.3125</td>\n",
       "      <td>-2.375000</td>\n",
       "      <td>2.50</td>\n",
       "      <td>NaN</td>\n",
       "    </tr>\n",
       "    <tr>\n",
       "      <th>10:15:00</th>\n",
       "      <td>-0.75</td>\n",
       "      <td>1.50</td>\n",
       "      <td>0.291667</td>\n",
       "      <td>0.737266</td>\n",
       "      <td>0.8125</td>\n",
       "      <td>-0.0625</td>\n",
       "      <td>-2.083333</td>\n",
       "      <td>2.25</td>\n",
       "      <td>NaN</td>\n",
       "    </tr>\n",
       "    <tr>\n",
       "      <th>10:16:00</th>\n",
       "      <td>-1.50</td>\n",
       "      <td>1.25</td>\n",
       "      <td>0.041667</td>\n",
       "      <td>0.752521</td>\n",
       "      <td>0.2500</td>\n",
       "      <td>-0.2500</td>\n",
       "      <td>-2.041667</td>\n",
       "      <td>2.75</td>\n",
       "      <td>NaN</td>\n",
       "    </tr>\n",
       "    <tr>\n",
       "      <th>10:17:00</th>\n",
       "      <td>-2.00</td>\n",
       "      <td>2.00</td>\n",
       "      <td>0.291667</td>\n",
       "      <td>1.086243</td>\n",
       "      <td>0.8125</td>\n",
       "      <td>-0.2500</td>\n",
       "      <td>-1.750000</td>\n",
       "      <td>4.00</td>\n",
       "      <td>NaN</td>\n",
       "    </tr>\n",
       "    <tr>\n",
       "      <th>10:18:00</th>\n",
       "      <td>-1.00</td>\n",
       "      <td>1.25</td>\n",
       "      <td>0.125000</td>\n",
       "      <td>0.626135</td>\n",
       "      <td>0.3750</td>\n",
       "      <td>-0.0625</td>\n",
       "      <td>-1.625000</td>\n",
       "      <td>2.25</td>\n",
       "      <td>NaN</td>\n",
       "    </tr>\n",
       "    <tr>\n",
       "      <th>10:19:00</th>\n",
       "      <td>-1.00</td>\n",
       "      <td>1.25</td>\n",
       "      <td>-0.083333</td>\n",
       "      <td>0.685344</td>\n",
       "      <td>0.1250</td>\n",
       "      <td>-0.5625</td>\n",
       "      <td>-1.708333</td>\n",
       "      <td>2.25</td>\n",
       "      <td>NaN</td>\n",
       "    </tr>\n",
       "    <tr>\n",
       "      <th>10:20:00</th>\n",
       "      <td>-2.50</td>\n",
       "      <td>2.00</td>\n",
       "      <td>-0.250000</td>\n",
       "      <td>1.274755</td>\n",
       "      <td>0.3750</td>\n",
       "      <td>-0.8750</td>\n",
       "      <td>-1.958333</td>\n",
       "      <td>4.50</td>\n",
       "      <td>NaN</td>\n",
       "    </tr>\n",
       "    <tr>\n",
       "      <th>10:21:00</th>\n",
       "      <td>-1.50</td>\n",
       "      <td>3.00</td>\n",
       "      <td>0.291667</td>\n",
       "      <td>1.132341</td>\n",
       "      <td>0.8125</td>\n",
       "      <td>-0.2500</td>\n",
       "      <td>-1.666667</td>\n",
       "      <td>4.50</td>\n",
       "      <td>NaN</td>\n",
       "    </tr>\n",
       "    <tr>\n",
       "      <th>10:22:00</th>\n",
       "      <td>-1.25</td>\n",
       "      <td>1.00</td>\n",
       "      <td>-0.041667</td>\n",
       "      <td>0.646963</td>\n",
       "      <td>0.3125</td>\n",
       "      <td>-0.2500</td>\n",
       "      <td>-1.708333</td>\n",
       "      <td>2.25</td>\n",
       "      <td>NaN</td>\n",
       "    </tr>\n",
       "    <tr>\n",
       "      <th>10:23:00</th>\n",
       "      <td>-0.75</td>\n",
       "      <td>2.25</td>\n",
       "      <td>0.375000</td>\n",
       "      <td>0.801277</td>\n",
       "      <td>0.8125</td>\n",
       "      <td>-0.2500</td>\n",
       "      <td>-1.333333</td>\n",
       "      <td>3.00</td>\n",
       "      <td>NaN</td>\n",
       "    </tr>\n",
       "    <tr>\n",
       "      <th>10:24:00</th>\n",
       "      <td>-0.25</td>\n",
       "      <td>2.00</td>\n",
       "      <td>0.395833</td>\n",
       "      <td>0.764692</td>\n",
       "      <td>0.6875</td>\n",
       "      <td>-0.0625</td>\n",
       "      <td>-0.937500</td>\n",
       "      <td>2.25</td>\n",
       "      <td>NaN</td>\n",
       "    </tr>\n",
       "    <tr>\n",
       "      <th>10:25:00</th>\n",
       "      <td>-0.75</td>\n",
       "      <td>0.50</td>\n",
       "      <td>-0.229167</td>\n",
       "      <td>0.457989</td>\n",
       "      <td>0.2500</td>\n",
       "      <td>-0.5625</td>\n",
       "      <td>-1.166667</td>\n",
       "      <td>1.25</td>\n",
       "      <td>NaN</td>\n",
       "    </tr>\n",
       "    <tr>\n",
       "      <th>10:26:00</th>\n",
       "      <td>-1.25</td>\n",
       "      <td>0.50</td>\n",
       "      <td>-0.062500</td>\n",
       "      <td>0.534333</td>\n",
       "      <td>0.3125</td>\n",
       "      <td>-0.5000</td>\n",
       "      <td>-1.229167</td>\n",
       "      <td>1.75</td>\n",
       "      <td>NaN</td>\n",
       "    </tr>\n",
       "    <tr>\n",
       "      <th>10:27:00</th>\n",
       "      <td>-1.75</td>\n",
       "      <td>1.25</td>\n",
       "      <td>-0.291667</td>\n",
       "      <td>0.760034</td>\n",
       "      <td>0.0000</td>\n",
       "      <td>-0.5625</td>\n",
       "      <td>-1.520833</td>\n",
       "      <td>3.00</td>\n",
       "      <td>NaN</td>\n",
       "    </tr>\n",
       "    <tr>\n",
       "      <th>10:28:00</th>\n",
       "      <td>-1.50</td>\n",
       "      <td>0.75</td>\n",
       "      <td>-0.291667</td>\n",
       "      <td>0.552199</td>\n",
       "      <td>0.0000</td>\n",
       "      <td>-0.5000</td>\n",
       "      <td>-1.812500</td>\n",
       "      <td>2.25</td>\n",
       "      <td>NaN</td>\n",
       "    </tr>\n",
       "    <tr>\n",
       "      <th>10:29:00</th>\n",
       "      <td>-0.75</td>\n",
       "      <td>0.75</td>\n",
       "      <td>-0.041667</td>\n",
       "      <td>0.437365</td>\n",
       "      <td>0.0000</td>\n",
       "      <td>-0.2500</td>\n",
       "      <td>-1.854167</td>\n",
       "      <td>1.50</td>\n",
       "      <td>NaN</td>\n",
       "    </tr>\n",
       "    <tr>\n",
       "      <th>10:30:00</th>\n",
       "      <td>-1.75</td>\n",
       "      <td>1.25</td>\n",
       "      <td>-0.104167</td>\n",
       "      <td>1.002601</td>\n",
       "      <td>0.6250</td>\n",
       "      <td>-0.6875</td>\n",
       "      <td>-1.958333</td>\n",
       "      <td>3.00</td>\n",
       "      <td>NaN</td>\n",
       "    </tr>\n",
       "  </tbody>\n",
       "</table>\n",
       "</div>"
      ],
      "text/plain": [
       "           min   max      mean   std_dev  upper_quartile  lower_quartile  \\\n",
       "09:32:00 -2.50  1.75 -0.416667  1.174218          0.2500         -1.0625   \n",
       "09:33:00 -1.50  1.25 -0.062500  0.966043          0.6250         -0.8125   \n",
       "09:34:00 -1.50  2.00 -0.104167  1.110172          0.6250         -0.8750   \n",
       "09:35:00 -2.25  2.00 -0.479167  1.140466          0.1250         -1.2500   \n",
       "09:36:00 -3.00  0.75 -0.708333  1.147296          0.0000         -1.1250   \n",
       "09:37:00 -1.50  2.00  0.062500  0.971907          0.5625         -0.3750   \n",
       "09:38:00 -1.75  2.50  0.062500  1.197179          0.7500         -0.6250   \n",
       "09:39:00 -1.25  1.50  0.041667  0.871476          0.5625         -0.7500   \n",
       "09:40:00 -2.50  1.75 -0.208333  1.147296          0.3750         -0.8125   \n",
       "09:41:00 -1.25  1.00 -0.083333  0.841625          0.7500         -0.6875   \n",
       "09:42:00 -3.50  2.00 -0.104167  1.298856          0.5000         -0.5000   \n",
       "09:43:00 -2.00  1.00 -0.312500  0.873375          0.2500         -0.8125   \n",
       "09:44:00 -1.25  1.00  0.125000  0.669973          0.5625         -0.1250   \n",
       "09:45:00 -1.25  1.50 -0.041667  0.903487          0.3125         -0.6250   \n",
       "09:46:00 -1.25  1.00 -0.020833  0.849186          0.5625         -0.6250   \n",
       "09:47:00 -0.50  1.50  0.395833  0.634772          1.0000          0.0000   \n",
       "09:48:00 -1.75  1.25 -0.145833  0.800982          0.2500         -0.5625   \n",
       "09:49:00 -1.50  1.00  0.062500  0.784256          0.7500         -0.5000   \n",
       "09:50:00 -2.00  2.50 -0.041667  1.200536          0.7500         -0.6250   \n",
       "09:51:00 -0.50  1.75  0.250000  0.722999          0.7500         -0.2500   \n",
       "09:52:00 -1.25  1.75 -0.062500  0.754720          0.0625         -0.5000   \n",
       "09:53:00 -1.50  1.00 -0.020833  0.757225          0.5000         -0.5625   \n",
       "09:54:00 -2.25  0.50 -0.250000  0.790569          0.2500         -0.5625   \n",
       "09:55:00 -0.75  0.75  0.020833  0.588317          0.5000         -0.5625   \n",
       "09:56:00 -1.00  1.50 -0.145833  0.652428          0.0000         -0.5000   \n",
       "09:57:00 -0.75  1.00  0.166667  0.547031          0.5625         -0.2500   \n",
       "09:58:00 -1.25  1.25  0.000000  0.722999          0.3125         -0.5000   \n",
       "09:59:00 -1.00  0.75 -0.083333  0.525847          0.3125         -0.3125   \n",
       "10:00:00 -3.25  1.00 -0.562500  1.012002          0.0000         -0.8125   \n",
       "10:01:00 -0.50  1.25  0.333333  0.525847          0.7500          0.0000   \n",
       "10:02:00 -1.00  2.50  0.208333  0.922160          0.5000         -0.3125   \n",
       "10:03:00 -3.00  1.25 -0.104167  1.115278          0.7500         -0.5000   \n",
       "10:04:00 -1.75  1.75 -0.083333  1.035360          0.8125         -0.8125   \n",
       "10:05:00 -1.25  1.50  0.104167  0.869027          0.5625         -0.3750   \n",
       "10:06:00 -1.00  2.75  0.166667  1.249242          0.8750         -0.8125   \n",
       "10:07:00 -3.00  0.75 -0.395833  1.030547          0.2500         -0.6250   \n",
       "10:08:00 -1.50  1.00  0.208333  0.705766          0.5625         -0.2500   \n",
       "10:09:00 -1.75  1.75  0.000000  0.977008          0.3750         -0.4375   \n",
       "10:10:00 -1.50  2.00  0.187500  0.911573          0.5000         -0.3125   \n",
       "10:11:00 -1.25  1.75  0.125000  0.772393          0.5625         -0.3125   \n",
       "10:12:00 -1.50  0.25 -0.354167  0.527196          0.0000         -0.5625   \n",
       "10:13:00 -1.25  1.25 -0.104167  0.710780          0.3125         -0.5625   \n",
       "10:14:00 -0.75  1.75  0.000000  0.674200          0.0625         -0.3125   \n",
       "10:15:00 -0.75  1.50  0.291667  0.737266          0.8125         -0.0625   \n",
       "10:16:00 -1.50  1.25  0.041667  0.752521          0.2500         -0.2500   \n",
       "10:17:00 -2.00  2.00  0.291667  1.086243          0.8125         -0.2500   \n",
       "10:18:00 -1.00  1.25  0.125000  0.626135          0.3750         -0.0625   \n",
       "10:19:00 -1.00  1.25 -0.083333  0.685344          0.1250         -0.5625   \n",
       "10:20:00 -2.50  2.00 -0.250000  1.274755          0.3750         -0.8750   \n",
       "10:21:00 -1.50  3.00  0.291667  1.132341          0.8125         -0.2500   \n",
       "10:22:00 -1.25  1.00 -0.041667  0.646963          0.3125         -0.2500   \n",
       "10:23:00 -0.75  2.25  0.375000  0.801277          0.8125         -0.2500   \n",
       "10:24:00 -0.25  2.00  0.395833  0.764692          0.6875         -0.0625   \n",
       "10:25:00 -0.75  0.50 -0.229167  0.457989          0.2500         -0.5625   \n",
       "10:26:00 -1.25  0.50 -0.062500  0.534333          0.3125         -0.5000   \n",
       "10:27:00 -1.75  1.25 -0.291667  0.760034          0.0000         -0.5625   \n",
       "10:28:00 -1.50  0.75 -0.291667  0.552199          0.0000         -0.5000   \n",
       "10:29:00 -0.75  0.75 -0.041667  0.437365          0.0000         -0.2500   \n",
       "10:30:00 -1.75  1.25 -0.104167  1.002601          0.6250         -0.6875   \n",
       "\n",
       "          cumulative_return  max_min_spread  max_min_spread_sma  \n",
       "09:32:00          -0.416667            4.25                 NaN  \n",
       "09:33:00          -0.479167            2.75                 NaN  \n",
       "09:34:00          -0.583333            3.50                 NaN  \n",
       "09:35:00          -1.062500            4.25                 NaN  \n",
       "09:36:00          -1.770833            3.75                 NaN  \n",
       "09:37:00          -1.708333            3.50                 NaN  \n",
       "09:38:00          -1.645833            4.25                 NaN  \n",
       "09:39:00          -1.604167            2.75                 NaN  \n",
       "09:40:00          -1.812500            4.25                 NaN  \n",
       "09:41:00          -1.895833            2.25                 NaN  \n",
       "09:42:00          -2.000000            5.50                 NaN  \n",
       "09:43:00          -2.312500            3.00                 NaN  \n",
       "09:44:00          -2.187500            2.25                 NaN  \n",
       "09:45:00          -2.229167            2.75                 NaN  \n",
       "09:46:00          -2.250000            2.25                 NaN  \n",
       "09:47:00          -1.854167            2.00                 NaN  \n",
       "09:48:00          -2.000000            3.00                 NaN  \n",
       "09:49:00          -1.937500            2.50                 NaN  \n",
       "09:50:00          -1.979167            4.50                 NaN  \n",
       "09:51:00          -1.729167            2.25                 NaN  \n",
       "09:52:00          -1.791667            3.00                 NaN  \n",
       "09:53:00          -1.812500            2.50                 NaN  \n",
       "09:54:00          -2.062500            2.75                 NaN  \n",
       "09:55:00          -2.041667            1.50                 NaN  \n",
       "09:56:00          -2.187500            2.50                 NaN  \n",
       "09:57:00          -2.020833            1.75                 NaN  \n",
       "09:58:00          -2.020833            2.50                 NaN  \n",
       "09:59:00          -2.104167            1.75                 NaN  \n",
       "10:00:00          -2.666667            4.25                 NaN  \n",
       "10:01:00          -2.333333            1.75                 NaN  \n",
       "10:02:00          -2.125000            3.50                 NaN  \n",
       "10:03:00          -2.229167            4.25                 NaN  \n",
       "10:04:00          -2.312500            3.50                 NaN  \n",
       "10:05:00          -2.208333            2.75                 NaN  \n",
       "10:06:00          -2.041667            3.75                 NaN  \n",
       "10:07:00          -2.437500            3.75                 NaN  \n",
       "10:08:00          -2.229167            2.50                 NaN  \n",
       "10:09:00          -2.229167            3.50                 NaN  \n",
       "10:10:00          -2.041667            3.50                 NaN  \n",
       "10:11:00          -1.916667            3.00                 NaN  \n",
       "10:12:00          -2.270833            1.75                 NaN  \n",
       "10:13:00          -2.375000            2.50                 NaN  \n",
       "10:14:00          -2.375000            2.50                 NaN  \n",
       "10:15:00          -2.083333            2.25                 NaN  \n",
       "10:16:00          -2.041667            2.75                 NaN  \n",
       "10:17:00          -1.750000            4.00                 NaN  \n",
       "10:18:00          -1.625000            2.25                 NaN  \n",
       "10:19:00          -1.708333            2.25                 NaN  \n",
       "10:20:00          -1.958333            4.50                 NaN  \n",
       "10:21:00          -1.666667            4.50                 NaN  \n",
       "10:22:00          -1.708333            2.25                 NaN  \n",
       "10:23:00          -1.333333            3.00                 NaN  \n",
       "10:24:00          -0.937500            2.25                 NaN  \n",
       "10:25:00          -1.166667            1.25                 NaN  \n",
       "10:26:00          -1.229167            1.75                 NaN  \n",
       "10:27:00          -1.520833            3.00                 NaN  \n",
       "10:28:00          -1.812500            2.25                 NaN  \n",
       "10:29:00          -1.854167            1.50                 NaN  \n",
       "10:30:00          -1.958333            3.00                 NaN  "
      ]
     },
     "execution_count": 140,
     "metadata": {},
     "output_type": "execute_result"
    }
   ],
   "source": [
    "df_930_1030"
   ]
  },
  {
   "cell_type": "markdown",
   "metadata": {},
   "source": [
    "Below is a plot of the cumulative return on average between 9:32 and 10:30"
   ]
  },
  {
   "cell_type": "code",
   "execution_count": 25,
   "metadata": {},
   "outputs": [
    {
     "data": {
      "text/plain": [
       "<matplotlib.axes._subplots.AxesSubplot at 0x10c56a150>"
      ]
     },
     "execution_count": 25,
     "metadata": {},
     "output_type": "execute_result"
    },
    {
     "data": {
      "image/png": "[encoded data removed]",
      "text/plain": [
       "<matplotlib.figure.Figure at 0x10a819410>"
      ]
     },
     "metadata": {},
     "output_type": "display_data"
    }
   ],
   "source": [
    "df_930_1030['cumulative_return'].plot(figsize=(10,6))"
   ]
  },
  {
   "cell_type": "markdown",
   "metadata": {},
   "source": [
    "Below is the minute-by-minute breakdown of average return within the time frame 9:30 - 10:30"
   ]
  },
  {
   "cell_type": "code",
   "execution_count": 70,
   "metadata": {},
   "outputs": [
    {
     "data": {
      "text/plain": [
       "<matplotlib.axes._subplots.AxesSubplot at 0x11a1e7d50>"
      ]
     },
     "execution_count": 70,
     "metadata": {},
     "output_type": "execute_result"
    },
    {
     "data": {
      "image/png": "[encoded data removed]",
      "text/plain": [
       "<matplotlib.figure.Figure at 0x126372410>"
      ]
     },
     "metadata": {},
     "output_type": "display_data"
    }
   ],
   "source": [
    "df_930_1030['mean'].plot(kind='bar',figsize=(16,6))"
   ]
  },
  {
   "cell_type": "markdown",
   "metadata": {},
   "source": [
    "# Single Day of Data"
   ]
  },
  {
   "cell_type": "code",
   "execution_count": 52,
   "metadata": {},
   "outputs": [
    {
     "data": {
      "text/html": [
       "<div>\n",
       "<style>\n",
       "    .dataframe thead tr:only-child th {\n",
       "        text-align: right;\n",
       "    }\n",
       "\n",
       "    .dataframe thead th {\n",
       "        text-align: left;\n",
       "    }\n",
       "\n",
       "    .dataframe tbody tr th {\n",
       "        vertical-align: top;\n",
       "    }\n",
       "</style>\n",
       "<table border=\"1\" class=\"dataframe\">\n",
       "  <thead>\n",
       "    <tr style=\"text-align: right;\">\n",
       "      <th></th>\n",
       "      <th>ES_price</th>\n",
       "      <th>price_change</th>\n",
       "      <th>2nd</th>\n",
       "      <th>Volatility</th>\n",
       "      <th>15min_max</th>\n",
       "      <th>15min_min</th>\n",
       "      <th>max_min_spread</th>\n",
       "      <th>SMA</th>\n",
       "      <th>Lower_Bollinger</th>\n",
       "      <th>Upper_Bollinger</th>\n",
       "    </tr>\n",
       "  </thead>\n",
       "  <tbody>\n",
       "    <tr>\n",
       "      <th>2015-11-30 09:31:00</th>\n",
       "      <td>2046.50</td>\n",
       "      <td>-0.25</td>\n",
       "      <td>-1.25</td>\n",
       "      <td>0.858736</td>\n",
       "      <td>2047.50</td>\n",
       "      <td>2045.75</td>\n",
       "      <td>1.75</td>\n",
       "      <td>2047.541667</td>\n",
       "      <td>2045.824194</td>\n",
       "      <td>2049.259139</td>\n",
       "    </tr>\n",
       "    <tr>\n",
       "      <th>2015-12-21 09:31:00</th>\n",
       "      <td>1975.75</td>\n",
       "      <td>1.50</td>\n",
       "      <td>0.25</td>\n",
       "      <td>1.119350</td>\n",
       "      <td>1975.75</td>\n",
       "      <td>1971.75</td>\n",
       "      <td>4.00</td>\n",
       "      <td>1972.558333</td>\n",
       "      <td>1970.319632</td>\n",
       "      <td>1974.797034</td>\n",
       "    </tr>\n",
       "    <tr>\n",
       "      <th>2016-01-11 09:31:00</th>\n",
       "      <td>1890.00</td>\n",
       "      <td>0.25</td>\n",
       "      <td>-1.75</td>\n",
       "      <td>1.633015</td>\n",
       "      <td>1890.00</td>\n",
       "      <td>1886.25</td>\n",
       "      <td>3.75</td>\n",
       "      <td>1886.941667</td>\n",
       "      <td>1883.675636</td>\n",
       "      <td>1890.207697</td>\n",
       "    </tr>\n",
       "    <tr>\n",
       "      <th>2016-02-22 09:31:00</th>\n",
       "      <td>1896.75</td>\n",
       "      <td>-0.25</td>\n",
       "      <td>-1.50</td>\n",
       "      <td>0.585321</td>\n",
       "      <td>1898.00</td>\n",
       "      <td>1895.75</td>\n",
       "      <td>2.25</td>\n",
       "      <td>1897.241667</td>\n",
       "      <td>1896.071025</td>\n",
       "      <td>1898.412308</td>\n",
       "    </tr>\n",
       "    <tr>\n",
       "      <th>2016-04-11 09:31:00</th>\n",
       "      <td>2021.50</td>\n",
       "      <td>-1.25</td>\n",
       "      <td>-3.50</td>\n",
       "      <td>0.781476</td>\n",
       "      <td>2023.50</td>\n",
       "      <td>2020.50</td>\n",
       "      <td>3.00</td>\n",
       "      <td>2022.141667</td>\n",
       "      <td>2020.578716</td>\n",
       "      <td>2023.704618</td>\n",
       "    </tr>\n",
       "    <tr>\n",
       "      <th>2016-06-13 09:31:00</th>\n",
       "      <td>2062.00</td>\n",
       "      <td>0.50</td>\n",
       "      <td>-0.75</td>\n",
       "      <td>0.859405</td>\n",
       "      <td>2062.00</td>\n",
       "      <td>2058.75</td>\n",
       "      <td>3.25</td>\n",
       "      <td>2060.275000</td>\n",
       "      <td>2058.556189</td>\n",
       "      <td>2061.993811</td>\n",
       "    </tr>\n",
       "    <tr>\n",
       "      <th>2016-06-20 09:31:00</th>\n",
       "      <td>2068.50</td>\n",
       "      <td>1.25</td>\n",
       "      <td>0.00</td>\n",
       "      <td>1.150962</td>\n",
       "      <td>2068.50</td>\n",
       "      <td>2064.25</td>\n",
       "      <td>4.25</td>\n",
       "      <td>2066.083333</td>\n",
       "      <td>2063.781410</td>\n",
       "      <td>2068.385257</td>\n",
       "    </tr>\n",
       "    <tr>\n",
       "      <th>2016-07-11 09:31:00</th>\n",
       "      <td>2111.25</td>\n",
       "      <td>1.00</td>\n",
       "      <td>-0.50</td>\n",
       "      <td>0.618443</td>\n",
       "      <td>2111.25</td>\n",
       "      <td>2108.75</td>\n",
       "      <td>2.50</td>\n",
       "      <td>2110.133333</td>\n",
       "      <td>2108.896448</td>\n",
       "      <td>2111.370219</td>\n",
       "    </tr>\n",
       "    <tr>\n",
       "      <th>2016-08-15 09:31:00</th>\n",
       "      <td>2167.00</td>\n",
       "      <td>-0.25</td>\n",
       "      <td>-1.50</td>\n",
       "      <td>0.327828</td>\n",
       "      <td>2167.25</td>\n",
       "      <td>2165.75</td>\n",
       "      <td>1.50</td>\n",
       "      <td>2166.016667</td>\n",
       "      <td>2165.361010</td>\n",
       "      <td>2166.672323</td>\n",
       "    </tr>\n",
       "    <tr>\n",
       "      <th>2016-08-29 09:31:00</th>\n",
       "      <td>2153.75</td>\n",
       "      <td>1.00</td>\n",
       "      <td>-0.50</td>\n",
       "      <td>0.531277</td>\n",
       "      <td>2153.75</td>\n",
       "      <td>2151.25</td>\n",
       "      <td>2.50</td>\n",
       "      <td>2151.591667</td>\n",
       "      <td>2150.529112</td>\n",
       "      <td>2152.654222</td>\n",
       "    </tr>\n",
       "    <tr>\n",
       "      <th>2016-09-12 09:31:00</th>\n",
       "      <td>2100.00</td>\n",
       "      <td>0.00</td>\n",
       "      <td>-1.00</td>\n",
       "      <td>0.675941</td>\n",
       "      <td>2101.00</td>\n",
       "      <td>2099.00</td>\n",
       "      <td>2.00</td>\n",
       "      <td>2100.500000</td>\n",
       "      <td>2099.148118</td>\n",
       "      <td>2101.851882</td>\n",
       "    </tr>\n",
       "    <tr>\n",
       "      <th>2016-09-19 09:31:00</th>\n",
       "      <td>2127.50</td>\n",
       "      <td>0.00</td>\n",
       "      <td>-0.75</td>\n",
       "      <td>0.586241</td>\n",
       "      <td>2128.00</td>\n",
       "      <td>2126.75</td>\n",
       "      <td>1.25</td>\n",
       "      <td>2127.883333</td>\n",
       "      <td>2126.710852</td>\n",
       "      <td>2129.055815</td>\n",
       "    </tr>\n",
       "    <tr>\n",
       "      <th>2016-09-26 09:31:00</th>\n",
       "      <td>2134.00</td>\n",
       "      <td>-2.25</td>\n",
       "      <td>-3.00</td>\n",
       "      <td>0.560685</td>\n",
       "      <td>2136.25</td>\n",
       "      <td>2134.00</td>\n",
       "      <td>2.25</td>\n",
       "      <td>2136.066667</td>\n",
       "      <td>2134.945296</td>\n",
       "      <td>2137.188037</td>\n",
       "    </tr>\n",
       "    <tr>\n",
       "      <th>2016-10-10 09:31:00</th>\n",
       "      <td>2146.75</td>\n",
       "      <td>-0.75</td>\n",
       "      <td>-2.50</td>\n",
       "      <td>0.622610</td>\n",
       "      <td>2147.50</td>\n",
       "      <td>2144.25</td>\n",
       "      <td>3.25</td>\n",
       "      <td>2145.433333</td>\n",
       "      <td>2144.188113</td>\n",
       "      <td>2146.678554</td>\n",
       "    </tr>\n",
       "    <tr>\n",
       "      <th>2016-10-17 09:31:00</th>\n",
       "      <td>2116.25</td>\n",
       "      <td>0.75</td>\n",
       "      <td>0.00</td>\n",
       "      <td>0.726351</td>\n",
       "      <td>2116.25</td>\n",
       "      <td>2113.00</td>\n",
       "      <td>3.25</td>\n",
       "      <td>2113.800000</td>\n",
       "      <td>2112.347297</td>\n",
       "      <td>2115.252703</td>\n",
       "    </tr>\n",
       "    <tr>\n",
       "      <th>2016-11-07 09:31:00</th>\n",
       "      <td>2097.50</td>\n",
       "      <td>-1.00</td>\n",
       "      <td>-2.00</td>\n",
       "      <td>0.330447</td>\n",
       "      <td>2098.50</td>\n",
       "      <td>2097.25</td>\n",
       "      <td>1.25</td>\n",
       "      <td>2097.583333</td>\n",
       "      <td>2096.922439</td>\n",
       "      <td>2098.244228</td>\n",
       "    </tr>\n",
       "    <tr>\n",
       "      <th>2016-12-12 09:31:00</th>\n",
       "      <td>2246.50</td>\n",
       "      <td>-0.50</td>\n",
       "      <td>-1.50</td>\n",
       "      <td>0.454543</td>\n",
       "      <td>2247.00</td>\n",
       "      <td>2245.50</td>\n",
       "      <td>1.50</td>\n",
       "      <td>2246.483333</td>\n",
       "      <td>2245.574248</td>\n",
       "      <td>2247.392419</td>\n",
       "    </tr>\n",
       "    <tr>\n",
       "      <th>2017-01-23 09:31:00</th>\n",
       "      <td>2254.75</td>\n",
       "      <td>-1.75</td>\n",
       "      <td>-2.50</td>\n",
       "      <td>0.832226</td>\n",
       "      <td>2257.00</td>\n",
       "      <td>2254.75</td>\n",
       "      <td>2.25</td>\n",
       "      <td>2255.641667</td>\n",
       "      <td>2253.977214</td>\n",
       "      <td>2257.306119</td>\n",
       "    </tr>\n",
       "    <tr>\n",
       "      <th>2017-04-03 09:31:00</th>\n",
       "      <td>2356.25</td>\n",
       "      <td>0.25</td>\n",
       "      <td>-0.50</td>\n",
       "      <td>0.330556</td>\n",
       "      <td>2356.25</td>\n",
       "      <td>2355.00</td>\n",
       "      <td>1.25</td>\n",
       "      <td>2355.525000</td>\n",
       "      <td>2354.863888</td>\n",
       "      <td>2356.186112</td>\n",
       "    </tr>\n",
       "    <tr>\n",
       "      <th>2017-07-03 09:31:00</th>\n",
       "      <td>2431.75</td>\n",
       "      <td>0.75</td>\n",
       "      <td>-0.50</td>\n",
       "      <td>0.494510</td>\n",
       "      <td>2431.75</td>\n",
       "      <td>2429.25</td>\n",
       "      <td>2.50</td>\n",
       "      <td>2430.116667</td>\n",
       "      <td>2429.127647</td>\n",
       "      <td>2431.105687</td>\n",
       "    </tr>\n",
       "    <tr>\n",
       "      <th>2017-08-14 09:31:00</th>\n",
       "      <td>2454.25</td>\n",
       "      <td>1.00</td>\n",
       "      <td>0.00</td>\n",
       "      <td>0.844352</td>\n",
       "      <td>2454.25</td>\n",
       "      <td>2451.50</td>\n",
       "      <td>2.75</td>\n",
       "      <td>2451.800000</td>\n",
       "      <td>2450.111295</td>\n",
       "      <td>2453.488705</td>\n",
       "    </tr>\n",
       "    <tr>\n",
       "      <th>2017-09-25 09:31:00</th>\n",
       "      <td>2496.50</td>\n",
       "      <td>0.25</td>\n",
       "      <td>-0.50</td>\n",
       "      <td>0.393554</td>\n",
       "      <td>2496.50</td>\n",
       "      <td>2494.75</td>\n",
       "      <td>1.75</td>\n",
       "      <td>2495.233333</td>\n",
       "      <td>2494.446225</td>\n",
       "      <td>2496.020442</td>\n",
       "    </tr>\n",
       "    <tr>\n",
       "      <th>2017-10-16 09:31:00</th>\n",
       "      <td>2556.25</td>\n",
       "      <td>0.50</td>\n",
       "      <td>-0.75</td>\n",
       "      <td>0.458085</td>\n",
       "      <td>2556.25</td>\n",
       "      <td>2554.50</td>\n",
       "      <td>1.75</td>\n",
       "      <td>2554.858333</td>\n",
       "      <td>2553.942163</td>\n",
       "      <td>2555.774503</td>\n",
       "    </tr>\n",
       "    <tr>\n",
       "      <th>2017-11-13 09:31:00</th>\n",
       "      <td>2573.75</td>\n",
       "      <td>0.25</td>\n",
       "      <td>-1.00</td>\n",
       "      <td>0.839959</td>\n",
       "      <td>2573.75</td>\n",
       "      <td>2571.25</td>\n",
       "      <td>2.50</td>\n",
       "      <td>2571.608333</td>\n",
       "      <td>2569.928415</td>\n",
       "      <td>2573.288252</td>\n",
       "    </tr>\n",
       "  </tbody>\n",
       "</table>\n",
       "</div>"
      ],
      "text/plain": [
       "                     ES_price  price_change   2nd  Volatility  15min_max  \\\n",
       "2015-11-30 09:31:00   2046.50         -0.25 -1.25    0.858736    2047.50   \n",
       "2015-12-21 09:31:00   1975.75          1.50  0.25    1.119350    1975.75   \n",
       "2016-01-11 09:31:00   1890.00          0.25 -1.75    1.633015    1890.00   \n",
       "2016-02-22 09:31:00   1896.75         -0.25 -1.50    0.585321    1898.00   \n",
       "2016-04-11 09:31:00   2021.50         -1.25 -3.50    0.781476    2023.50   \n",
       "2016-06-13 09:31:00   2062.00          0.50 -0.75    0.859405    2062.00   \n",
       "2016-06-20 09:31:00   2068.50          1.25  0.00    1.150962    2068.50   \n",
       "2016-07-11 09:31:00   2111.25          1.00 -0.50    0.618443    2111.25   \n",
       "2016-08-15 09:31:00   2167.00         -0.25 -1.50    0.327828    2167.25   \n",
       "2016-08-29 09:31:00   2153.75          1.00 -0.50    0.531277    2153.75   \n",
       "2016-09-12 09:31:00   2100.00          0.00 -1.00    0.675941    2101.00   \n",
       "2016-09-19 09:31:00   2127.50          0.00 -0.75    0.586241    2128.00   \n",
       "2016-09-26 09:31:00   2134.00         -2.25 -3.00    0.560685    2136.25   \n",
       "2016-10-10 09:31:00   2146.75         -0.75 -2.50    0.622610    2147.50   \n",
       "2016-10-17 09:31:00   2116.25          0.75  0.00    0.726351    2116.25   \n",
       "2016-11-07 09:31:00   2097.50         -1.00 -2.00    0.330447    2098.50   \n",
       "2016-12-12 09:31:00   2246.50         -0.50 -1.50    0.454543    2247.00   \n",
       "2017-01-23 09:31:00   2254.75         -1.75 -2.50    0.832226    2257.00   \n",
       "2017-04-03 09:31:00   2356.25          0.25 -0.50    0.330556    2356.25   \n",
       "2017-07-03 09:31:00   2431.75          0.75 -0.50    0.494510    2431.75   \n",
       "2017-08-14 09:31:00   2454.25          1.00  0.00    0.844352    2454.25   \n",
       "2017-09-25 09:31:00   2496.50          0.25 -0.50    0.393554    2496.50   \n",
       "2017-10-16 09:31:00   2556.25          0.50 -0.75    0.458085    2556.25   \n",
       "2017-11-13 09:31:00   2573.75          0.25 -1.00    0.839959    2573.75   \n",
       "\n",
       "                     15min_min  max_min_spread          SMA  Lower_Bollinger  \\\n",
       "2015-11-30 09:31:00    2045.75            1.75  2047.541667      2045.824194   \n",
       "2015-12-21 09:31:00    1971.75            4.00  1972.558333      1970.319632   \n",
       "2016-01-11 09:31:00    1886.25            3.75  1886.941667      1883.675636   \n",
       "2016-02-22 09:31:00    1895.75            2.25  1897.241667      1896.071025   \n",
       "2016-04-11 09:31:00    2020.50            3.00  2022.141667      2020.578716   \n",
       "2016-06-13 09:31:00    2058.75            3.25  2060.275000      2058.556189   \n",
       "2016-06-20 09:31:00    2064.25            4.25  2066.083333      2063.781410   \n",
       "2016-07-11 09:31:00    2108.75            2.50  2110.133333      2108.896448   \n",
       "2016-08-15 09:31:00    2165.75            1.50  2166.016667      2165.361010   \n",
       "2016-08-29 09:31:00    2151.25            2.50  2151.591667      2150.529112   \n",
       "2016-09-12 09:31:00    2099.00            2.00  2100.500000      2099.148118   \n",
       "2016-09-19 09:31:00    2126.75            1.25  2127.883333      2126.710852   \n",
       "2016-09-26 09:31:00    2134.00            2.25  2136.066667      2134.945296   \n",
       "2016-10-10 09:31:00    2144.25            3.25  2145.433333      2144.188113   \n",
       "2016-10-17 09:31:00    2113.00            3.25  2113.800000      2112.347297   \n",
       "2016-11-07 09:31:00    2097.25            1.25  2097.583333      2096.922439   \n",
       "2016-12-12 09:31:00    2245.50            1.50  2246.483333      2245.574248   \n",
       "2017-01-23 09:31:00    2254.75            2.25  2255.641667      2253.977214   \n",
       "2017-04-03 09:31:00    2355.00            1.25  2355.525000      2354.863888   \n",
       "2017-07-03 09:31:00    2429.25            2.50  2430.116667      2429.127647   \n",
       "2017-08-14 09:31:00    2451.50            2.75  2451.800000      2450.111295   \n",
       "2017-09-25 09:31:00    2494.75            1.75  2495.233333      2494.446225   \n",
       "2017-10-16 09:31:00    2554.50            1.75  2554.858333      2553.942163   \n",
       "2017-11-13 09:31:00    2571.25            2.50  2571.608333      2569.928415   \n",
       "\n",
       "                     Upper_Bollinger  \n",
       "2015-11-30 09:31:00      2049.259139  \n",
       "2015-12-21 09:31:00      1974.797034  \n",
       "2016-01-11 09:31:00      1890.207697  \n",
       "2016-02-22 09:31:00      1898.412308  \n",
       "2016-04-11 09:31:00      2023.704618  \n",
       "2016-06-13 09:31:00      2061.993811  \n",
       "2016-06-20 09:31:00      2068.385257  \n",
       "2016-07-11 09:31:00      2111.370219  \n",
       "2016-08-15 09:31:00      2166.672323  \n",
       "2016-08-29 09:31:00      2152.654222  \n",
       "2016-09-12 09:31:00      2101.851882  \n",
       "2016-09-19 09:31:00      2129.055815  \n",
       "2016-09-26 09:31:00      2137.188037  \n",
       "2016-10-10 09:31:00      2146.678554  \n",
       "2016-10-17 09:31:00      2115.252703  \n",
       "2016-11-07 09:31:00      2098.244228  \n",
       "2016-12-12 09:31:00      2247.392419  \n",
       "2017-01-23 09:31:00      2257.306119  \n",
       "2017-04-03 09:31:00      2356.186112  \n",
       "2017-07-03 09:31:00      2431.105687  \n",
       "2017-08-14 09:31:00      2453.488705  \n",
       "2017-09-25 09:31:00      2496.020442  \n",
       "2017-10-16 09:31:00      2555.774503  \n",
       "2017-11-13 09:31:00      2573.288252  "
      ]
     },
     "execution_count": 52,
     "metadata": {},
     "output_type": "execute_result"
    }
   ],
   "source": [
    "df[(df.index.weekday == 0) & (df.index.hour == 9) & (df.index.minute==31) & (df.price_change.shift(1) >= 0.75)]"
   ]
  },
  {
   "cell_type": "markdown",
   "metadata": {},
   "source": [
    "Above is the list of all days during which we had a change in S&P at 9:30 which was in the top quarter of events over these two years. We now want to look at one such "
   ]
  },
  {
   "cell_type": "code",
   "execution_count": 105,
   "metadata": {
    "collapsed": true
   },
   "outputs": [],
   "source": []
  },
  {
   "cell_type": "markdown",
   "metadata": {},
   "source": [
    "# Resampling, ATR, and STARC bands"
   ]
  },
  {
   "cell_type": "code",
   "execution_count": 53,
   "metadata": {
    "collapsed": true
   },
   "outputs": [],
   "source": [
    "ES_ohlc =  df['ES_price'].resample('5Min').ohlc()"
   ]
  },
  {
   "cell_type": "code",
   "execution_count": 54,
   "metadata": {
    "collapsed": true
   },
   "outputs": [],
   "source": [
    "ES_ohlc['TR1'] = ES_ohlc['high']-ES_ohlc['low']\n",
    "ES_ohlc['TR2'] = abs(ES_ohlc['high']-ES_ohlc['close'].shift(+1))\n",
    "ES_ohlc['TR3'] = abs(ES_ohlc['low']-ES_ohlc['close'].shift(+1))"
   ]
  },
  {
   "cell_type": "code",
   "execution_count": 56,
   "metadata": {},
   "outputs": [],
   "source": [
    "ES_ohlc=ES_ohlc.fillna(0)"
   ]
  },
  {
   "cell_type": "code",
   "execution_count": 57,
   "metadata": {
    "collapsed": true
   },
   "outputs": [],
   "source": [
    "ES_ohlc['TR'] = ES_ohlc[['TR1', 'TR2','TR3']].max(axis=1)"
   ]
  },
  {
   "cell_type": "code",
   "execution_count": 59,
   "metadata": {},
   "outputs": [],
   "source": [
    "ES_ohlc = ES_ohlc.drop(['TR1', 'TR2','TR3'],axis=1)"
   ]
  },
  {
   "cell_type": "code",
   "execution_count": 60,
   "metadata": {
    "collapsed": true
   },
   "outputs": [],
   "source": [
    "ES_ohlc['ATR'] = ES_ohlc['TR'].mean()"
   ]
  },
  {
   "cell_type": "code",
   "execution_count": 63,
   "metadata": {},
   "outputs": [],
   "source": [
    "for i in range(1,len(ES_ohlc['ATR'])-1):\n",
    "    ES_ohlc['ATR'][i] = (ES_ohlc['ATR'][i-1]*(len(ES_ohlc['ATR'])-1) + ES_ohlc['TR'][i])/len(ES_ohlc['ATR'])"
   ]
  },
  {
   "cell_type": "code",
   "execution_count": 64,
   "metadata": {},
   "outputs": [
    {
     "data": {
      "image/png": "[encoded data removed]",
      "text/plain": [
       "<matplotlib.figure.Figure at 0x1260684d0>"
      ]
     },
     "metadata": {},
     "output_type": "display_data"
    }
   ],
   "source": [
    "ES_ohlc['ATR'].plot( figsize=(10, 6));"
   ]
  },
  {
   "cell_type": "code",
   "execution_count": null,
   "metadata": {},
   "outputs": [],
   "source": []
  },
  {
   "cell_type": "markdown",
   "metadata": {},
   "source": [
    "# Up days versus Down days"
   ]
  },
  {
   "cell_type": "markdown",
   "metadata": {},
   "source": [
    "In this section we'll explore if the overall trend of the market on the timescale of a day is a strong indicator of returns. Below is a histogram of returns from 9:30 to 9:31 on all Mondays. Directly below is this single data set broken up into \"up\" days, days for which the close is higher than the previous day's close, and \"down\" days, days in which the close is lower than the previous close."
   ]
  },
  {
   "cell_type": "code",
   "execution_count": 122,
   "metadata": {},
   "outputs": [
    {
     "data": {
      "text/plain": [
       "<matplotlib.axes._subplots.AxesSubplot at 0x131f14bd0>"
      ]
     },
     "execution_count": 122,
     "metadata": {},
     "output_type": "execute_result"
    },
    {
     "data": {
      "image/png": "[encoded data removed]",
      "text/plain": [
       "<matplotlib.figure.Figure at 0x131f32050>"
      ]
     },
     "metadata": {},
     "output_type": "display_data"
    }
   ],
   "source": [
    "df[(df.index.weekday == 0) & (df.index.hour == 9) & (df.index.minute==31)]['price_change'].hist(bins=20,range=(-2.75,2.25))"
   ]
  },
  {
   "cell_type": "code",
   "execution_count": 121,
   "metadata": {},
   "outputs": [
    {
     "data": {
      "text/plain": [
       "count    103.000000\n",
       "mean       0.160194\n",
       "std        0.923452\n",
       "min       -2.750000\n",
       "25%       -0.500000\n",
       "50%        0.250000\n",
       "75%        0.750000\n",
       "max        2.250000\n",
       "Name: price_change, dtype: float64"
      ]
     },
     "execution_count": 121,
     "metadata": {},
     "output_type": "execute_result"
    }
   ],
   "source": [
    "df[(df.index.weekday == 0) & (df.index.hour == 9) & (df.index.minute==31)]['price_change'].describe()"
   ]
  },
  {
   "cell_type": "code",
   "execution_count": 118,
   "metadata": {},
   "outputs": [
    {
     "data": {
      "text/plain": [
       "count    103.000000\n",
       "mean       0.160194\n",
       "std        0.923452\n",
       "min       -2.750000\n",
       "25%       -0.500000\n",
       "50%        0.250000\n",
       "75%        0.750000\n",
       "max        2.250000\n",
       "Name: price_change, dtype: float64"
      ]
     },
     "execution_count": 118,
     "metadata": {},
     "output_type": "execute_result"
    }
   ],
   "source": [
    "df[(df.index.weekday == 0) & (df.index.hour == 9) & (df.index.minute==31)]['price_change'].describe()"
   ]
  },
  {
   "cell_type": "code",
   "execution_count": 119,
   "metadata": {},
   "outputs": [
    {
     "data": {
      "text/plain": [
       "<matplotlib.axes._subplots.AxesSubplot at 0x1320df350>"
      ]
     },
     "execution_count": 119,
     "metadata": {},
     "output_type": "execute_result"
    },
    {
     "data": {
      "image/png": "[encoded data removed]",
      "text/plain": [
       "<matplotlib.figure.Figure at 0x119e8c590>"
      ]
     },
     "metadata": {},
     "output_type": "display_data"
    }
   ],
   "source": [
    "df[(df.index.weekday == 0) & (df.index.hour == 9) & (df.index.minute==31) & (df.up_or_down > 0)]['price_change'].hist(bins=19, range=(-2.75,2))"
   ]
  },
  {
   "cell_type": "markdown",
   "metadata": {},
   "source": [
    "Above we see the histogram for returns in the first minute on \"up\" days."
   ]
  },
  {
   "cell_type": "code",
   "execution_count": 114,
   "metadata": {},
   "outputs": [
    {
     "data": {
      "text/plain": [
       "count    57.000000\n",
       "mean      0.271930\n",
       "std       0.836234\n",
       "min      -2.750000\n",
       "25%      -0.250000\n",
       "50%       0.250000\n",
       "75%       1.000000\n",
       "max       2.000000\n",
       "Name: price_change, dtype: float64"
      ]
     },
     "execution_count": 114,
     "metadata": {},
     "output_type": "execute_result"
    }
   ],
   "source": [
    "df[(df.index.weekday == 0) & (df.index.hour == 9) & (df.index.minute==31) & (df.up_or_down > 0)]['price_change'].describe()"
   ]
  },
  {
   "cell_type": "code",
   "execution_count": 120,
   "metadata": {},
   "outputs": [
    {
     "data": {
      "text/plain": [
       "<matplotlib.axes._subplots.AxesSubplot at 0x128b7d890>"
      ]
     },
     "execution_count": 120,
     "metadata": {},
     "output_type": "execute_result"
    },
    {
     "data": {
      "image/png": "[encoded data removed]",
      "text/plain": [
       "<matplotlib.figure.Figure at 0x129d6c250>"
      ]
     },
     "metadata": {},
     "output_type": "display_data"
    }
   ],
   "source": [
    "df[(df.index.weekday == 0) & (df.index.hour == 9) & (df.index.minute==31) & (df.up_or_down < 0)]['price_change'].hist(bins=18,range=(-2.25,2.25))"
   ]
  },
  {
   "cell_type": "markdown",
   "metadata": {},
   "source": [
    "Above we see the histogram for returns in the first minute on \"down\" days."
   ]
  },
  {
   "cell_type": "markdown",
   "metadata": {},
   "source": [
    "Below we see the returns in the minute 9:31 to 9:32 split into up and down days. It is also worth noting that there are a larger number of events for days that are up rather than down."
   ]
  },
  {
   "cell_type": "code",
   "execution_count": 115,
   "metadata": {},
   "outputs": [
    {
     "data": {
      "text/plain": [
       "count    45.000000\n",
       "mean     -0.016667\n",
       "std       0.990581\n",
       "min      -2.250000\n",
       "25%      -0.750000\n",
       "50%       0.000000\n",
       "75%       0.750000\n",
       "max       2.250000\n",
       "Name: price_change, dtype: float64"
      ]
     },
     "execution_count": 115,
     "metadata": {},
     "output_type": "execute_result"
    }
   ],
   "source": [
    "df[(df.index.weekday == 0) & (df.index.hour == 9) & (df.index.minute==31) & (df.up_or_down < 0)]['price_change'].describe()"
   ]
  },
  {
   "cell_type": "code",
   "execution_count": 126,
   "metadata": {},
   "outputs": [
    {
     "data": {
      "text/plain": [
       "<matplotlib.axes._subplots.AxesSubplot at 0x131b87050>"
      ]
     },
     "execution_count": 126,
     "metadata": {},
     "output_type": "execute_result"
    },
    {
     "data": {
      "image/png": "[encoded data removed]",
      "text/plain": [
       "<matplotlib.figure.Figure at 0x131b7b710>"
      ]
     },
     "metadata": {},
     "output_type": "display_data"
    }
   ],
   "source": [
    "df[(df.index.weekday == 0) & (df.index.hour == 9) & (df.index.minute==32) & (df.price_change.shift(1) >= 0.75) & (df.up_or_down < 0)]['price_change'].hist()"
   ]
  },
  {
   "cell_type": "code",
   "execution_count": 127,
   "metadata": {},
   "outputs": [
    {
     "data": {
      "text/plain": [
       "count    12.000000\n",
       "mean     -0.416667\n",
       "std       1.174218\n",
       "min      -2.500000\n",
       "25%      -1.062500\n",
       "50%      -0.625000\n",
       "75%       0.250000\n",
       "max       1.750000\n",
       "Name: price_change, dtype: float64"
      ]
     },
     "execution_count": 127,
     "metadata": {},
     "output_type": "execute_result"
    }
   ],
   "source": [
    "df[(df.index.weekday == 0) & (df.index.hour == 9) & (df.index.minute==32) & (df.price_change.shift(1) >= 0.75) & (df.up_or_down < 0)]['price_change'].describe()"
   ]
  },
  {
   "cell_type": "code",
   "execution_count": 128,
   "metadata": {},
   "outputs": [
    {
     "data": {
      "text/plain": [
       "<matplotlib.axes._subplots.AxesSubplot at 0x1321e0a90>"
      ]
     },
     "execution_count": 128,
     "metadata": {},
     "output_type": "execute_result"
    },
    {
     "data": {
      "image/png": "[encoded data removed]",
      "text/plain": [
       "<matplotlib.figure.Figure at 0x1125d6ad0>"
      ]
     },
     "metadata": {},
     "output_type": "display_data"
    }
   ],
   "source": [
    "df[(df.index.weekday == 0) & (df.index.hour == 9) & (df.index.minute==32) & (df.price_change.shift(1) >= 0.75) & (df.up_or_down > 0)]['price_change'].hist()"
   ]
  },
  {
   "cell_type": "code",
   "execution_count": 129,
   "metadata": {},
   "outputs": [
    {
     "data": {
      "text/plain": [
       "count    21.000000\n",
       "mean      0.142857\n",
       "std       0.673477\n",
       "min      -1.000000\n",
       "25%      -0.250000\n",
       "50%       0.000000\n",
       "75%       0.500000\n",
       "max       1.500000\n",
       "Name: price_change, dtype: float64"
      ]
     },
     "execution_count": 129,
     "metadata": {},
     "output_type": "execute_result"
    }
   ],
   "source": [
    "df[(df.index.weekday == 0) & (df.index.hour == 9) & (df.index.minute==32) & (df.price_change.shift(1) >= 0.75) & (df.up_or_down > 0)]['price_change'].describe()"
   ]
  },
  {
   "cell_type": "code",
   "execution_count": 150,
   "metadata": {
    "collapsed": true
   },
   "outputs": [],
   "source": [
    "minimums = []\n",
    "maximums = []\n",
    "mean_returns = []\n",
    "std_dev = []\n",
    "lower_quartile = []\n",
    "upper_quartile = []\n",
    "time_window=pd.date_range(\"09:32\", \"10:30\", freq=\"1min\").time\n",
    "for i in range(1,60): \n",
    "    if(i < 29):\n",
    "        minimums.append(df[(df.index.weekday == 0) & (df.index.hour == 9) & (df.index.minute==31+i) & (df.price_change.shift(i) >= 0.75) & (df.up_or_down > 0)]['price_change'].min())\n",
    "        maximums.append(df[(df.index.weekday == 0) & (df.index.hour == 9) & (df.index.minute==31+i) & (df.price_change.shift(i) >= 0.75) & (df.up_or_down > 0)]['price_change'].max())\n",
    "        mean_returns.append(df[(df.index.weekday == 0) & (df.index.hour == 9) & (df.index.minute==31+i) & (df.price_change.shift(i) >= 0.75) & (df.up_or_down > 0)]['price_change'].mean())\n",
    "        std_dev.append(df[(df.index.weekday == 0) & (df.index.hour == 9) & (df.index.minute==31+i) & (df.price_change.shift(i) >= 0.75) & (df.up_or_down > 0)]['price_change'].std())\n",
    "        upper_quartile.append(df[(df.index.weekday == 0) & (df.index.hour == 9) & (df.index.minute==31+i) & (df.price_change.shift(i) >= 0.75) & (df.up_or_down > 0)]['price_change'].quantile(.75))\n",
    "        lower_quartile.append(df[(df.index.weekday == 0) & (df.index.hour == 9) & (df.index.minute==31+i) & (df.price_change.shift(i) >= 0.75) & (df.up_or_down > 0)]['price_change'].quantile(.25))\n",
    "        i+=1\n",
    "    elif(i >= 29):\n",
    "        minimums.append(df[(df.index.weekday == 0) & (df.index.hour == 10) & (df.index.minute==i-29) & (df.price_change.shift(i) >= 0.75) & (df.up_or_down > 0)]['price_change'].min())\n",
    "        maximums.append(df[(df.index.weekday == 0) & (df.index.hour == 10) & (df.index.minute==i-29) & (df.price_change.shift(i) >= 0.75) & (df.up_or_down > 0)]['price_change'].max())\n",
    "        mean_returns.append(df[(df.index.weekday == 0) & (df.index.hour == 10) & (df.index.minute==i-29) & (df.price_change.shift(i) >= 0.75) & (df.up_or_down > 0)]['price_change'].mean())\n",
    "        std_dev.append(df[(df.index.weekday == 0) & (df.index.hour == 10) & (df.index.minute==i-29) & (df.price_change.shift(i) >= 0.75) & (df.up_or_down > 0)]['price_change'].std())\n",
    "        upper_quartile.append(df[(df.index.weekday == 0) & (df.index.hour == 10) & (df.index.minute==i-29) & (df.price_change.shift(i) >= 0.75) & (df.up_or_down > 0)]['price_change'].quantile(.75))\n",
    "        lower_quartile.append(df[(df.index.weekday == 0) & (df.index.hour == 10) & (df.index.minute==i-29) & (df.price_change.shift(i) >= 0.75) & (df.up_or_down > 0)]['price_change'].quantile(.25))\n",
    "        i+=1\n",
    "\n"
   ]
  },
  {
   "cell_type": "code",
   "execution_count": 151,
   "metadata": {
    "collapsed": true
   },
   "outputs": [],
   "source": [
    "df_930_1030_up=pd.DataFrame(minimums,index=time_window,columns=['min'])\n",
    "df_930_1030_up['max'] = maximums\n",
    "df_930_1030_up['mean'] = mean_returns\n",
    "df_930_1030_up['std_dev'] = std_dev\n",
    "df_930_1030_up['upper_quartile'] = upper_quartile\n",
    "df_930_1030_up['lower_quartile'] = lower_quartile\n",
    "df_930_1030_up['cumulative_return'] = df_930_1030_up['mean'].cumsum(axis = 0)\n",
    "df_930_1030_up['max_min_spread'] = df_930_1030_up['max'] - df_930_1030_up['min']"
   ]
  },
  {
   "cell_type": "code",
   "execution_count": 152,
   "metadata": {
    "collapsed": true
   },
   "outputs": [],
   "source": [
    "minimums = []\n",
    "maximums = []\n",
    "mean_returns = []\n",
    "std_dev = []\n",
    "lower_quartile = []\n",
    "upper_quartile = []\n",
    "time_window=pd.date_range(\"09:32\", \"10:30\", freq=\"1min\").time\n",
    "for i in range(1,60): \n",
    "    if(i < 29):\n",
    "        minimums.append(df[(df.index.weekday == 0) & (df.index.hour == 9) & (df.index.minute==31+i) & (df.price_change.shift(i) >= 0.75) & (df.up_or_down < 0)]['price_change'].min())\n",
    "        maximums.append(df[(df.index.weekday == 0) & (df.index.hour == 9) & (df.index.minute==31+i) & (df.price_change.shift(i) >= 0.75) & (df.up_or_down < 0)]['price_change'].max())\n",
    "        mean_returns.append(df[(df.index.weekday == 0) & (df.index.hour == 9) & (df.index.minute==31+i) & (df.price_change.shift(i) >= 0.75) & (df.up_or_down < 0)]['price_change'].mean())\n",
    "        std_dev.append(df[(df.index.weekday == 0) & (df.index.hour == 9) & (df.index.minute==31+i) & (df.price_change.shift(i) >= 0.75) & (df.up_or_down < 0)]['price_change'].std())\n",
    "        upper_quartile.append(df[(df.index.weekday == 0) & (df.index.hour == 9) & (df.index.minute==31+i) & (df.price_change.shift(i) >= 0.75) & (df.up_or_down < 0)]['price_change'].quantile(.75))\n",
    "        lower_quartile.append(df[(df.index.weekday == 0) & (df.index.hour == 9) & (df.index.minute==31+i) & (df.price_change.shift(i) >= 0.75) & (df.up_or_down < 0)]['price_change'].quantile(.25))\n",
    "        i+=1\n",
    "    elif(i >= 29):\n",
    "        minimums.append(df[(df.index.weekday == 0) & (df.index.hour == 10) & (df.index.minute==i-29) & (df.price_change.shift(i) >= 0.75) & (df.up_or_down < 0)]['price_change'].min())\n",
    "        maximums.append(df[(df.index.weekday == 0) & (df.index.hour == 10) & (df.index.minute==i-29) & (df.price_change.shift(i) >= 0.75) & (df.up_or_down < 0)]['price_change'].max())\n",
    "        mean_returns.append(df[(df.index.weekday == 0) & (df.index.hour == 10) & (df.index.minute==i-29) & (df.price_change.shift(i) >= 0.75) & (df.up_or_down < 0)]['price_change'].mean())\n",
    "        std_dev.append(df[(df.index.weekday == 0) & (df.index.hour == 10) & (df.index.minute==i-29) & (df.price_change.shift(i) >= 0.75) & (df.up_or_down < 0)]['price_change'].std())\n",
    "        upper_quartile.append(df[(df.index.weekday == 0) & (df.index.hour == 10) & (df.index.minute==i-29) & (df.price_change.shift(i) >= 0.75) & (df.up_or_down < 0)]['price_change'].quantile(.75))\n",
    "        lower_quartile.append(df[(df.index.weekday == 0) & (df.index.hour == 10) & (df.index.minute==i-29) & (df.price_change.shift(i) >= 0.75) & (df.up_or_down < 0)]['price_change'].quantile(.25))\n",
    "        i+=1\n",
    "\n",
    "\n"
   ]
  },
  {
   "cell_type": "code",
   "execution_count": 153,
   "metadata": {
    "collapsed": true
   },
   "outputs": [],
   "source": [
    "df_930_1030_down=pd.DataFrame(minimums,index=time_window,columns=['min'])\n",
    "df_930_1030_down['max'] = maximums\n",
    "df_930_1030_down['mean'] = mean_returns\n",
    "df_930_1030_down['std_dev'] = std_dev\n",
    "df_930_1030_down['upper_quartile'] = upper_quartile\n",
    "df_930_1030_down['lower_quartile'] = lower_quartile\n",
    "df_930_1030_down['cumulative_return'] = df_930_1030_down['mean'].cumsum(axis = 0)\n",
    "df_930_1030_down['max_min_spread'] = df_930_1030_down['max'] - df_930_1030_down['min']"
   ]
  },
  {
   "cell_type": "code",
   "execution_count": 136,
   "metadata": {},
   "outputs": [
    {
     "data": {
      "text/plain": [
       "<matplotlib.axes._subplots.AxesSubplot at 0x129a995d0>"
      ]
     },
     "execution_count": 136,
     "metadata": {},
     "output_type": "execute_result"
    },
    {
     "data": {
      "image/png": "[encoded data removed]",
      "text/plain": [
       "<matplotlib.figure.Figure at 0x127385a50>"
      ]
     },
     "metadata": {},
     "output_type": "display_data"
    }
   ],
   "source": [
    "df_930_1030_up['mean'].plot(kind='bar',figsize=(16,6))"
   ]
  },
  {
   "cell_type": "markdown",
   "metadata": {},
   "source": [
    "This plot represents the total return minute-by-minute for an up day and directly below it a down day."
   ]
  },
  {
   "cell_type": "code",
   "execution_count": 135,
   "metadata": {},
   "outputs": [
    {
     "data": {
      "text/plain": [
       "<matplotlib.axes._subplots.AxesSubplot at 0x128bd3b90>"
      ]
     },
     "execution_count": 135,
     "metadata": {},
     "output_type": "execute_result"
    },
    {
     "data": {
      "image/png": "[encoded data removed]",
      "text/plain": [
       "<matplotlib.figure.Figure at 0x13172f950>"
      ]
     },
     "metadata": {},
     "output_type": "display_data"
    }
   ],
   "source": [
    "df_930_1030_down['mean'].plot(kind='bar',figsize=(16,6))"
   ]
  },
  {
   "cell_type": "markdown",
   "metadata": {},
   "source": [
    "Below is a plot of cumulative return for up days and below that for down days."
   ]
  },
  {
   "cell_type": "code",
   "execution_count": 154,
   "metadata": {},
   "outputs": [
    {
     "data": {
      "text/plain": [
       "<matplotlib.axes._subplots.AxesSubplot at 0x1324a0190>"
      ]
     },
     "execution_count": 154,
     "metadata": {},
     "output_type": "execute_result"
    },
    {
     "data": {
      "image/png": "[encoded data removed]",
      "text/plain": [
       "<matplotlib.figure.Figure at 0x1324c1510>"
      ]
     },
     "metadata": {},
     "output_type": "display_data"
    }
   ],
   "source": [
    "df_930_1030_up['cumulative_return'].plot()"
   ]
  },
  {
   "cell_type": "code",
   "execution_count": 155,
   "metadata": {},
   "outputs": [
    {
     "data": {
      "text/plain": [
       "<matplotlib.axes._subplots.AxesSubplot at 0x1323c9090>"
      ]
     },
     "execution_count": 155,
     "metadata": {},
     "output_type": "execute_result"
    },
    {
     "data": {
      "image/png": "[encoded data removed]",
      "text/plain": [
       "<matplotlib.figure.Figure at 0x126a0c250>"
      ]
     },
     "metadata": {},
     "output_type": "display_data"
    }
   ],
   "source": [
    "df_930_1030_down['cumulative_return'].plot()"
   ]
  },
  {
   "cell_type": "code",
   "execution_count": 164,
   "metadata": {},
   "outputs": [
    {
     "data": {
      "image/png": "[encoded data removed]",
      "text/plain": [
       "<matplotlib.figure.Figure at 0x131fe7710>"
      ]
     },
     "metadata": {},
     "output_type": "display_data"
    }
   ],
   "source": [
    "plt.figure(figsize=(12,6))\n",
    "plt.xlabel('Cumulative Return')\n",
    "\n",
    "ax1 = df_930_1030_down.cumulative_return.plot(color='red', grid=True, label='Down')\n",
    "ax2 = df_930_1030_up.cumulative_return.plot(color='blue', grid=True, label='Up')\n",
    "\n",
    "h1, l1 = ax1.get_legend_handles_labels()\n",
    "\n",
    "\n",
    "plt.legend(h1, l1, loc=2)\n",
    "plt.show()"
   ]
  },
  {
   "cell_type": "code",
   "execution_count": 156,
   "metadata": {
    "collapsed": true
   },
   "outputs": [],
   "source": [
    "import matplotlib.pyplot as plt"
   ]
  },
  {
   "cell_type": "code",
   "execution_count": 176,
   "metadata": {},
   "outputs": [
    {
     "data": {
      "text/plain": [
       "<matplotlib.axes._subplots.AxesSubplot at 0x1288ed190>"
      ]
     },
     "execution_count": 176,
     "metadata": {},
     "output_type": "execute_result"
    },
    {
     "data": {
      "image/png": "[encoded data removed]",
      "text/plain": [
       "<matplotlib.figure.Figure at 0x12aae0390>"
      ]
     },
     "metadata": {},
     "output_type": "display_data"
    }
   ],
   "source": [
    "df[(df.index.hour == 9) & (df.index.minute==32) & (df.price_change.shift(1) > 0.75)]['price_change'].hist()"
   ]
  },
  {
   "cell_type": "code",
   "execution_count": 177,
   "metadata": {
    "collapsed": true
   },
   "outputs": [],
   "source": [
    "ES_5min=  df['ES_price'].resample('5Min').ohlc()"
   ]
  },
  {
   "cell_type": "code",
   "execution_count": 179,
   "metadata": {},
   "outputs": [],
   "source": [
    "ES_5min['price_change'] = ES_5min['close'] - ES_5min['close'].shift(1)"
   ]
  },
  {
   "cell_type": "code",
   "execution_count": 184,
   "metadata": {},
   "outputs": [
    {
     "data": {
      "text/plain": [
       "<matplotlib.axes._subplots.AxesSubplot at 0x128888e90>"
      ]
     },
     "execution_count": 184,
     "metadata": {},
     "output_type": "execute_result"
    },
    {
     "data": {
      "image/png": "[encoded data removed]",
      "text/plain": [
       "<matplotlib.figure.Figure at 0x128843150>"
      ]
     },
     "metadata": {},
     "output_type": "display_data"
    }
   ],
   "source": [
    "ES_5min[(ES_5min.index.hour == 9) & (ES_5min.index.minute==35)]['price_change'].hist()"
   ]
  },
  {
   "cell_type": "code",
   "execution_count": null,
   "metadata": {
    "collapsed": true
   },
   "outputs": [],
   "source": []
  }
 ],
 "metadata": {
  "kernelspec": {
   "display_name": "Python 2",
   "language": "python",
   "name": "python2"
  },
  "language_info": {
   "codemirror_mode": {
    "name": "ipython",
    "version": 2
   },
   "file_extension": ".py",
   "mimetype": "text/x-python",
   "name": "python",
   "nbconvert_exporter": "python",
   "pygments_lexer": "ipython2",
   "version": "2.7.14"
  }
 },
 "nbformat": 4,
 "nbformat_minor": 2
}
