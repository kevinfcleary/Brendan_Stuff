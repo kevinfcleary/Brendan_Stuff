{
 "cells": [
  {
   "cell_type": "markdown",
   "metadata": {},
   "source": [
    "# Analytics Prototype (Elephant Hunter v 0.1)"
   ]
  },
  {
   "cell_type": "markdown",
   "metadata": {},
   "source": [
    "We want to build a flexible analytics suite which can analyze and predict anomalous market motion, and capitalize on it. The end goal is to feed a trained machine learning system tick data, and have it, using historical data, predict the outcomes and their expected payoffs, by ranking the set of possible actions it will provide instructions to conduct automated trading. As a first step, we first want to analyze the behavior of the S&P 500 index in the opening hour of the market 9:30 - 10:30 on Mondays. To do this we will use Python to aggregate the data and then construct a number of descriptive statistics."
   ]
  },
  {
   "cell_type": "markdown",
   "metadata": {},
   "source": [
    "These import statements include the pandas package, which is perfectly suited for data analysis. Datetime to handle the date and time information of the tick data, and matplotlib so that graphs are visible within the notebook."
   ]
  },
  {
   "cell_type": "code",
   "execution_count": 1,
   "metadata": {
    "collapsed": true
   },
   "outputs": [],
   "source": [
    "import pandas as pd\n",
    "import datetime as dt\n",
    "from datetime import datetime, timedelta\n",
    "%matplotlib inline"
   ]
  },
  {
   "cell_type": "markdown",
   "metadata": {},
   "source": [
    "The dates.txt file is a semicolon separated string of numbers generated from Matlab. The file I was given was surrounded by two brackets \"[ ]\" which I went in and deleted. This command generates a list of the dates and trims off the final entry which is blank. It then closes the file."
   ]
  },
  {
   "cell_type": "code",
   "execution_count": 2,
   "metadata": {
    "collapsed": true
   },
   "outputs": [],
   "source": [
    "file = open(\"dates.txt\",\"r\")\n",
    "\n",
    "for line in file:\n",
    "    fields = line.split(\";\")\n",
    "    \n",
    "file.close()\n",
    "\n",
    "fields = fields[:-1]"
   ]
  },
  {
   "cell_type": "markdown",
   "metadata": {},
   "source": [
    "The dates provided are in Matlab format which is a six-digit number and a fraction of the day. We want to identify these numbers with actual dates and times, so the below method converts Matlab times into Pyhton datetimes, which are readily understandable to humans."
   ]
  },
  {
   "cell_type": "code",
   "execution_count": 3,
   "metadata": {
    "collapsed": true
   },
   "outputs": [],
   "source": [
    "def mlt_to_dt(matlab_datenum):\n",
    "    python_datetime = datetime.fromordinal(int(matlab_datenum)) + timedelta(days=matlab_datenum%1) - timedelta(days = 366)\n",
    "    return python_datetime\n",
    "\n",
    "fields = [mlt_to_dt(float(p)) for p in fields]"
   ]
  },
  {
   "cell_type": "markdown",
   "metadata": {},
   "source": [
    "ES.txt is minute-by-minute tick data of the S&P 500 separated by commas, we split the txt file and turn it into a Python list. We again remove the last entry in the list as it is blank."
   ]
  },
  {
   "cell_type": "code",
   "execution_count": 4,
   "metadata": {
    "collapsed": true
   },
   "outputs": [],
   "source": [
    "file = open(\"ES.txt\",\"r\")\n",
    "\n",
    "for line in file:\n",
    "    fields1 = line.split(\",\")\n",
    "    \n",
    "file.close()"
   ]
  },
  {
   "cell_type": "code",
   "execution_count": 5,
   "metadata": {
    "collapsed": true
   },
   "outputs": [],
   "source": [
    "fields1=fields1[:-1]\n",
    "fields1=[float(i) for i in fields1]"
   ]
  },
  {
   "cell_type": "markdown",
   "metadata": {},
   "source": [
    "Now that we have loaded both our datetimes and our S&P Prices into Python, we combine them into a dataframe. This approach is scalable to include many other assets, but for now we'll only include the S&P. There is a built in calendar in Python that we'll use to filter down the available data into trading days before 4pm. "
   ]
  },
  {
   "cell_type": "code",
   "execution_count": 89,
   "metadata": {
    "collapsed": true
   },
   "outputs": [],
   "source": [
    "import datetime\n",
    "from pandas.tseries.holiday import USFederalHolidayCalendar\n",
    "cal = USFederalHolidayCalendar()\n",
    "holidays = cal.holidays(start='2015-11-14', end='2017-11-14').to_pydatetime()\n",
    "\n",
    "df=pd.DataFrame(fields1,index=fields,columns=['ES_price'])\n",
    "df.index = df.index.round('1min')\n",
    "df=df[(df.index.dayofweek<5) & (df.index.hour<16) & (~df.index.isin(holidays))]"
   ]
  },
  {
   "cell_type": "code",
   "execution_count": 90,
   "metadata": {},
   "outputs": [
    {
     "data": {
      "text/html": [
       "<div>\n",
       "<style>\n",
       "    .dataframe thead tr:only-child th {\n",
       "        text-align: right;\n",
       "    }\n",
       "\n",
       "    .dataframe thead th {\n",
       "        text-align: left;\n",
       "    }\n",
       "\n",
       "    .dataframe tbody tr th {\n",
       "        vertical-align: top;\n",
       "    }\n",
       "</style>\n",
       "<table border=\"1\" class=\"dataframe\">\n",
       "  <thead>\n",
       "    <tr style=\"text-align: right;\">\n",
       "      <th></th>\n",
       "      <th>ES_price</th>\n",
       "    </tr>\n",
       "  </thead>\n",
       "  <tbody>\n",
       "    <tr>\n",
       "      <th>count</th>\n",
       "      <td>492543.000000</td>\n",
       "    </tr>\n",
       "    <tr>\n",
       "      <th>mean</th>\n",
       "      <td>2214.545897</td>\n",
       "    </tr>\n",
       "    <tr>\n",
       "      <th>std</th>\n",
       "      <td>201.776074</td>\n",
       "    </tr>\n",
       "    <tr>\n",
       "      <th>min</th>\n",
       "      <td>1767.500000</td>\n",
       "    </tr>\n",
       "    <tr>\n",
       "      <th>25%</th>\n",
       "      <td>2047.000000</td>\n",
       "    </tr>\n",
       "    <tr>\n",
       "      <th>50%</th>\n",
       "      <td>2165.750000</td>\n",
       "    </tr>\n",
       "    <tr>\n",
       "      <th>75%</th>\n",
       "      <td>2390.000000</td>\n",
       "    </tr>\n",
       "    <tr>\n",
       "      <th>max</th>\n",
       "      <td>2593.500000</td>\n",
       "    </tr>\n",
       "  </tbody>\n",
       "</table>\n",
       "</div>"
      ],
      "text/plain": [
       "            ES_price\n",
       "count  492543.000000\n",
       "mean     2214.545897\n",
       "std       201.776074\n",
       "min      1767.500000\n",
       "25%      2047.000000\n",
       "50%      2165.750000\n",
       "75%      2390.000000\n",
       "max      2593.500000"
      ]
     },
     "execution_count": 90,
     "metadata": {},
     "output_type": "execute_result"
    }
   ],
   "source": [
    "df.describe()"
   ]
  },
  {
   "cell_type": "markdown",
   "metadata": {},
   "source": [
    "We see that we have 492,543 data points to work with. Now we will start generating descriptive statistics and analyze a small subsection of the data."
   ]
  },
  {
   "cell_type": "code",
   "execution_count": 91,
   "metadata": {
    "collapsed": true
   },
   "outputs": [],
   "source": [
    "df['price_change'] = df['ES_price'] - df['ES_price'].shift(+1)"
   ]
  },
  {
   "cell_type": "code",
   "execution_count": 92,
   "metadata": {
    "collapsed": true
   },
   "outputs": [],
   "source": [
    "df['2nd'] = df['price_change'] - df['price_change'].shift(+1)"
   ]
  },
  {
   "cell_type": "code",
   "execution_count": 93,
   "metadata": {},
   "outputs": [],
   "source": [
    "df['Volatility'] = df['ES_price'].rolling(window=30,center=False).std()"
   ]
  },
  {
   "cell_type": "code",
   "execution_count": 94,
   "metadata": {
    "collapsed": true
   },
   "outputs": [],
   "source": [
    "df['15min_max'] = df['ES_price'].rolling(window=15,center=False).max()"
   ]
  },
  {
   "cell_type": "code",
   "execution_count": 95,
   "metadata": {
    "collapsed": true
   },
   "outputs": [],
   "source": [
    "df['15min_min'] = df['ES_price'].rolling(window=15,center=False).min()"
   ]
  },
  {
   "cell_type": "code",
   "execution_count": 96,
   "metadata": {
    "collapsed": true
   },
   "outputs": [],
   "source": [
    "df['max_min_spread'] = df['15min_max'] - df['15min_min']"
   ]
  },
  {
   "cell_type": "markdown",
   "metadata": {},
   "source": [
    "The above six cells detail the price change, the change of the change in price (or 2nd derivative, 2nd) and rolling volatility with a window of 30 minutes, the 15 minute max and min and the spread between min and max. It is worth noting that the window size of the volatility is adjustable, and center = False guarantees that we only include previous prices in computing our volatility."
   ]
  },
  {
   "cell_type": "markdown",
   "metadata": {},
   "source": [
    "Let's now focus our attention on the time frame of 9:30 to 10:30 each Monday. Below are the descriptive statistics for the change in price from 9:30 to 9:31 on Monday."
   ]
  },
  {
   "cell_type": "code",
   "execution_count": 45,
   "metadata": {},
   "outputs": [
    {
     "data": {
      "text/plain": [
       "count    103.000000\n",
       "mean       0.160194\n",
       "std        0.923452\n",
       "min       -2.750000\n",
       "25%       -0.500000\n",
       "50%        0.250000\n",
       "75%        0.750000\n",
       "max        2.250000\n",
       "Name: price_change, dtype: float64"
      ]
     },
     "execution_count": 45,
     "metadata": {},
     "output_type": "execute_result"
    }
   ],
   "source": [
    "df[(df.index.weekday == 0) & (df.index.hour == 9) & (df.index.minute==31)]['price_change'].describe()"
   ]
  },
  {
   "cell_type": "markdown",
   "metadata": {},
   "source": [
    "We see that the average move is 0.16 ticks, and the upper quartile of moves (meaning the top 25% of price changes) fall between 0.75 and 2.25. We want to further examine the set of events which have large (upper quartile) price changes and use the subsequent motion of the underlying to see what is average for large initial moves. Below we also see histograms of the price change, and the second derivative. We notice that the average second derivative is positive."
   ]
  },
  {
   "cell_type": "code",
   "execution_count": 46,
   "metadata": {},
   "outputs": [
    {
     "data": {
      "text/plain": [
       "<matplotlib.axes._subplots.AxesSubplot at 0x117918650>"
      ]
     },
     "execution_count": 46,
     "metadata": {},
     "output_type": "execute_result"
    },
    {
     "data": {
      "image/png": "[encoded data removed]",
      "text/plain": [
       "<matplotlib.figure.Figure at 0x117abb610>"
      ]
     },
     "metadata": {},
     "output_type": "display_data"
    }
   ],
   "source": [
    "df[(df.index.weekday == 0) & (df.index.hour == 9) & (df.index.minute==31)]['price_change'].hist()"
   ]
  },
  {
   "cell_type": "code",
   "execution_count": 116,
   "metadata": {},
   "outputs": [
    {
     "data": {
      "text/plain": [
       "count    103.000000\n",
       "mean       0.177184\n",
       "std        1.414054\n",
       "min       -3.500000\n",
       "25%       -0.750000\n",
       "50%        0.000000\n",
       "75%        1.000000\n",
       "max        4.250000\n",
       "Name: 2nd, dtype: float64"
      ]
     },
     "execution_count": 116,
     "metadata": {},
     "output_type": "execute_result"
    }
   ],
   "source": [
    "df[(df.index.weekday == 0) & (df.index.hour == 9) & (df.index.minute==31)]['2nd'].describe()"
   ]
  },
  {
   "cell_type": "code",
   "execution_count": 47,
   "metadata": {},
   "outputs": [
    {
     "data": {
      "text/plain": [
       "<matplotlib.axes._subplots.AxesSubplot at 0x11a312850>"
      ]
     },
     "execution_count": 47,
     "metadata": {},
     "output_type": "execute_result"
    },
    {
     "data": {
      "image/png": "[encoded data removed]",
      "text/plain": [
       "<matplotlib.figure.Figure at 0x11a1fcc50>"
      ]
     },
     "metadata": {},
     "output_type": "display_data"
    }
   ],
   "source": [
    "df[(df.index.weekday == 0) & (df.index.hour == 9) & (df.index.minute==31)]['2nd'].hist()"
   ]
  },
  {
   "cell_type": "markdown",
   "metadata": {},
   "source": [
    "Here we construct 4 empty lists and cycle through the aggregated data of tick data for which the 9:31 price increase is in the top 25% of events (>= 0.75). We append to these lists descriptive statistics. We then pass these four lists into a data frame and print the data frame. Included in the data frame is a column for the cumulative return,which is the cumulative sum of price changes. "
   ]
  },
  {
   "cell_type": "code",
   "execution_count": 103,
   "metadata": {},
   "outputs": [],
   "source": [
    "minimums = []\n",
    "maximums = []\n",
    "mean_returns = []\n",
    "std_dev = []\n",
    "time_window=pd.date_range(\"09:32\", \"10:30\", freq=\"1min\").time\n",
    "for i in range(1,60): \n",
    "    if(i < 29):\n",
    "        minimums.append(df[(df.index.weekday == 0) & (df.index.hour == 9) & (df.index.minute==31+i) & (df.price_change.shift(i) >= 0.75)]['price_change'].min())\n",
    "        maximums.append(df[(df.index.weekday == 0) & (df.index.hour == 9) & (df.index.minute==31+i) & (df.price_change.shift(i) >= 0.75)]['price_change'].max())\n",
    "        mean_returns.append(df[(df.index.weekday == 0) & (df.index.hour == 9) & (df.index.minute==31+i) & (df.price_change.shift(i) >= 0.75)]['price_change'].mean())\n",
    "        std_dev.append(df[(df.index.weekday == 0) & (df.index.hour == 9) & (df.index.minute==31+i) & (df.price_change.shift(i) >= 0.75)]['price_change'].std())\n",
    "        i+=1\n",
    "    elif(i >= 29):\n",
    "        minimums.append(df[(df.index.weekday == 0) & (df.index.hour == 10) & (df.index.minute==i-29) & (df.price_change.shift(i) >= 0.75)]['price_change'].min())\n",
    "        maximums.append(df[(df.index.weekday == 0) & (df.index.hour == 10) & (df.index.minute==i-29) & (df.price_change.shift(i) >= 0.75)]['price_change'].max())\n",
    "        mean_returns.append(df[(df.index.weekday == 0) & (df.index.hour == 10) & (df.index.minute==i-29) & (df.price_change.shift(i) >= 0.75)]['price_change'].mean())\n",
    "        std_dev.append(df[(df.index.weekday == 0) & (df.index.hour == 10) & (df.index.minute==i-29) & (df.price_change.shift(i) >= 0.75)]['price_change'].std())\n",
    "        i+=1\n"
   ]
  },
  {
   "cell_type": "code",
   "execution_count": 122,
   "metadata": {},
   "outputs": [],
   "source": [
    "df_930_1030=pd.DataFrame(minimums,index=time_window,columns=['min'])\n",
    "df_930_1030['max'] = maximums\n",
    "df_930_1030['mean'] = mean_returns\n",
    "df_930_1030['std_dev'] = std_dev\n",
    "df_930_1030['cumulative_return'] = df_930_1030['mean'].cumsum(axis = 0)"
   ]
  },
  {
   "cell_type": "code",
   "execution_count": 123,
   "metadata": {},
   "outputs": [
    {
     "data": {
      "text/html": [
       "<div>\n",
       "<style>\n",
       "    .dataframe thead tr:only-child th {\n",
       "        text-align: right;\n",
       "    }\n",
       "\n",
       "    .dataframe thead th {\n",
       "        text-align: left;\n",
       "    }\n",
       "\n",
       "    .dataframe tbody tr th {\n",
       "        vertical-align: top;\n",
       "    }\n",
       "</style>\n",
       "<table border=\"1\" class=\"dataframe\">\n",
       "  <thead>\n",
       "    <tr style=\"text-align: right;\">\n",
       "      <th></th>\n",
       "      <th>min</th>\n",
       "      <th>max</th>\n",
       "      <th>mean</th>\n",
       "      <th>std_dev</th>\n",
       "      <th>cumulative_return</th>\n",
       "    </tr>\n",
       "  </thead>\n",
       "  <tbody>\n",
       "    <tr>\n",
       "      <th>09:32:00</th>\n",
       "      <td>-2.50</td>\n",
       "      <td>1.75</td>\n",
       "      <td>-0.044118</td>\n",
       "      <td>0.903425</td>\n",
       "      <td>-0.044118</td>\n",
       "    </tr>\n",
       "    <tr>\n",
       "      <th>09:33:00</th>\n",
       "      <td>-1.75</td>\n",
       "      <td>1.50</td>\n",
       "      <td>0.014706</td>\n",
       "      <td>0.863707</td>\n",
       "      <td>-0.029412</td>\n",
       "    </tr>\n",
       "    <tr>\n",
       "      <th>09:34:00</th>\n",
       "      <td>-1.50</td>\n",
       "      <td>2.00</td>\n",
       "      <td>0.139706</td>\n",
       "      <td>0.793418</td>\n",
       "      <td>0.110294</td>\n",
       "    </tr>\n",
       "    <tr>\n",
       "      <th>09:35:00</th>\n",
       "      <td>-2.25</td>\n",
       "      <td>2.50</td>\n",
       "      <td>0.051471</td>\n",
       "      <td>1.060266</td>\n",
       "      <td>0.161765</td>\n",
       "    </tr>\n",
       "    <tr>\n",
       "      <th>09:36:00</th>\n",
       "      <td>-3.00</td>\n",
       "      <td>1.00</td>\n",
       "      <td>-0.301471</td>\n",
       "      <td>0.801938</td>\n",
       "      <td>-0.139706</td>\n",
       "    </tr>\n",
       "    <tr>\n",
       "      <th>09:37:00</th>\n",
       "      <td>-1.50</td>\n",
       "      <td>2.00</td>\n",
       "      <td>0.176471</td>\n",
       "      <td>0.732186</td>\n",
       "      <td>0.036765</td>\n",
       "    </tr>\n",
       "    <tr>\n",
       "      <th>09:38:00</th>\n",
       "      <td>-1.75</td>\n",
       "      <td>2.50</td>\n",
       "      <td>0.014706</td>\n",
       "      <td>0.878922</td>\n",
       "      <td>0.051471</td>\n",
       "    </tr>\n",
       "    <tr>\n",
       "      <th>09:39:00</th>\n",
       "      <td>-1.75</td>\n",
       "      <td>4.75</td>\n",
       "      <td>0.367647</td>\n",
       "      <td>1.089265</td>\n",
       "      <td>0.419118</td>\n",
       "    </tr>\n",
       "    <tr>\n",
       "      <th>09:40:00</th>\n",
       "      <td>-2.50</td>\n",
       "      <td>2.25</td>\n",
       "      <td>0.080882</td>\n",
       "      <td>0.897641</td>\n",
       "      <td>0.500000</td>\n",
       "    </tr>\n",
       "    <tr>\n",
       "      <th>09:41:00</th>\n",
       "      <td>-1.25</td>\n",
       "      <td>1.00</td>\n",
       "      <td>0.051471</td>\n",
       "      <td>0.650697</td>\n",
       "      <td>0.551471</td>\n",
       "    </tr>\n",
       "    <tr>\n",
       "      <th>09:42:00</th>\n",
       "      <td>-3.50</td>\n",
       "      <td>2.00</td>\n",
       "      <td>-0.066176</td>\n",
       "      <td>0.860120</td>\n",
       "      <td>0.485294</td>\n",
       "    </tr>\n",
       "    <tr>\n",
       "      <th>09:43:00</th>\n",
       "      <td>-2.00</td>\n",
       "      <td>1.50</td>\n",
       "      <td>-0.007353</td>\n",
       "      <td>0.791731</td>\n",
       "      <td>0.477941</td>\n",
       "    </tr>\n",
       "    <tr>\n",
       "      <th>09:44:00</th>\n",
       "      <td>-1.25</td>\n",
       "      <td>1.75</td>\n",
       "      <td>0.125000</td>\n",
       "      <td>0.606936</td>\n",
       "      <td>0.602941</td>\n",
       "    </tr>\n",
       "    <tr>\n",
       "      <th>09:45:00</th>\n",
       "      <td>-1.50</td>\n",
       "      <td>1.75</td>\n",
       "      <td>0.132353</td>\n",
       "      <td>0.781498</td>\n",
       "      <td>0.735294</td>\n",
       "    </tr>\n",
       "    <tr>\n",
       "      <th>09:46:00</th>\n",
       "      <td>-1.25</td>\n",
       "      <td>2.00</td>\n",
       "      <td>0.029412</td>\n",
       "      <td>0.727607</td>\n",
       "      <td>0.764706</td>\n",
       "    </tr>\n",
       "    <tr>\n",
       "      <th>09:47:00</th>\n",
       "      <td>-1.50</td>\n",
       "      <td>1.50</td>\n",
       "      <td>0.213235</td>\n",
       "      <td>0.634048</td>\n",
       "      <td>0.977941</td>\n",
       "    </tr>\n",
       "    <tr>\n",
       "      <th>09:48:00</th>\n",
       "      <td>-1.75</td>\n",
       "      <td>2.25</td>\n",
       "      <td>0.007353</td>\n",
       "      <td>0.754997</td>\n",
       "      <td>0.985294</td>\n",
       "    </tr>\n",
       "    <tr>\n",
       "      <th>09:49:00</th>\n",
       "      <td>-1.75</td>\n",
       "      <td>1.00</td>\n",
       "      <td>-0.147059</td>\n",
       "      <td>0.738851</td>\n",
       "      <td>0.838235</td>\n",
       "    </tr>\n",
       "    <tr>\n",
       "      <th>09:50:00</th>\n",
       "      <td>-2.00</td>\n",
       "      <td>2.50</td>\n",
       "      <td>-0.022059</td>\n",
       "      <td>0.877686</td>\n",
       "      <td>0.816176</td>\n",
       "    </tr>\n",
       "    <tr>\n",
       "      <th>09:51:00</th>\n",
       "      <td>-2.25</td>\n",
       "      <td>1.75</td>\n",
       "      <td>-0.110294</td>\n",
       "      <td>0.756765</td>\n",
       "      <td>0.705882</td>\n",
       "    </tr>\n",
       "    <tr>\n",
       "      <th>09:52:00</th>\n",
       "      <td>-1.25</td>\n",
       "      <td>1.75</td>\n",
       "      <td>-0.110294</td>\n",
       "      <td>0.631230</td>\n",
       "      <td>0.595588</td>\n",
       "    </tr>\n",
       "    <tr>\n",
       "      <th>09:53:00</th>\n",
       "      <td>-1.50</td>\n",
       "      <td>1.00</td>\n",
       "      <td>0.000000</td>\n",
       "      <td>0.557320</td>\n",
       "      <td>0.595588</td>\n",
       "    </tr>\n",
       "    <tr>\n",
       "      <th>09:54:00</th>\n",
       "      <td>-2.25</td>\n",
       "      <td>1.25</td>\n",
       "      <td>-0.080882</td>\n",
       "      <td>0.681800</td>\n",
       "      <td>0.514706</td>\n",
       "    </tr>\n",
       "    <tr>\n",
       "      <th>09:55:00</th>\n",
       "      <td>-0.75</td>\n",
       "      <td>1.00</td>\n",
       "      <td>0.007353</td>\n",
       "      <td>0.466634</td>\n",
       "      <td>0.522059</td>\n",
       "    </tr>\n",
       "    <tr>\n",
       "      <th>09:56:00</th>\n",
       "      <td>-1.00</td>\n",
       "      <td>1.50</td>\n",
       "      <td>-0.029412</td>\n",
       "      <td>0.583110</td>\n",
       "      <td>0.492647</td>\n",
       "    </tr>\n",
       "    <tr>\n",
       "      <th>09:57:00</th>\n",
       "      <td>-1.25</td>\n",
       "      <td>1.00</td>\n",
       "      <td>-0.044118</td>\n",
       "      <td>0.527539</td>\n",
       "      <td>0.448529</td>\n",
       "    </tr>\n",
       "    <tr>\n",
       "      <th>09:58:00</th>\n",
       "      <td>-1.25</td>\n",
       "      <td>1.25</td>\n",
       "      <td>0.000000</td>\n",
       "      <td>0.596708</td>\n",
       "      <td>0.448529</td>\n",
       "    </tr>\n",
       "    <tr>\n",
       "      <th>09:59:00</th>\n",
       "      <td>-1.00</td>\n",
       "      <td>2.25</td>\n",
       "      <td>0.102941</td>\n",
       "      <td>0.677332</td>\n",
       "      <td>0.551471</td>\n",
       "    </tr>\n",
       "    <tr>\n",
       "      <th>10:00:00</th>\n",
       "      <td>-3.25</td>\n",
       "      <td>2.00</td>\n",
       "      <td>-0.088235</td>\n",
       "      <td>0.994078</td>\n",
       "      <td>0.463235</td>\n",
       "    </tr>\n",
       "    <tr>\n",
       "      <th>10:01:00</th>\n",
       "      <td>-2.00</td>\n",
       "      <td>2.75</td>\n",
       "      <td>0.191176</td>\n",
       "      <td>0.861770</td>\n",
       "      <td>0.654412</td>\n",
       "    </tr>\n",
       "    <tr>\n",
       "      <th>10:02:00</th>\n",
       "      <td>-2.25</td>\n",
       "      <td>2.50</td>\n",
       "      <td>0.066176</td>\n",
       "      <td>0.791309</td>\n",
       "      <td>0.720588</td>\n",
       "    </tr>\n",
       "    <tr>\n",
       "      <th>10:03:00</th>\n",
       "      <td>-3.00</td>\n",
       "      <td>1.50</td>\n",
       "      <td>0.000000</td>\n",
       "      <td>0.807165</td>\n",
       "      <td>0.720588</td>\n",
       "    </tr>\n",
       "    <tr>\n",
       "      <th>10:04:00</th>\n",
       "      <td>-1.75</td>\n",
       "      <td>1.75</td>\n",
       "      <td>0.058824</td>\n",
       "      <td>0.688264</td>\n",
       "      <td>0.779412</td>\n",
       "    </tr>\n",
       "    <tr>\n",
       "      <th>10:05:00</th>\n",
       "      <td>-1.50</td>\n",
       "      <td>1.75</td>\n",
       "      <td>0.301471</td>\n",
       "      <td>0.838874</td>\n",
       "      <td>1.080882</td>\n",
       "    </tr>\n",
       "    <tr>\n",
       "      <th>10:06:00</th>\n",
       "      <td>-1.00</td>\n",
       "      <td>2.75</td>\n",
       "      <td>0.088235</td>\n",
       "      <td>0.818541</td>\n",
       "      <td>1.169118</td>\n",
       "    </tr>\n",
       "    <tr>\n",
       "      <th>10:07:00</th>\n",
       "      <td>-3.00</td>\n",
       "      <td>1.00</td>\n",
       "      <td>-0.080882</td>\n",
       "      <td>0.822783</td>\n",
       "      <td>1.088235</td>\n",
       "    </tr>\n",
       "    <tr>\n",
       "      <th>10:08:00</th>\n",
       "      <td>-1.50</td>\n",
       "      <td>1.00</td>\n",
       "      <td>0.007353</td>\n",
       "      <td>0.572360</td>\n",
       "      <td>1.095588</td>\n",
       "    </tr>\n",
       "    <tr>\n",
       "      <th>10:09:00</th>\n",
       "      <td>-1.75</td>\n",
       "      <td>1.75</td>\n",
       "      <td>-0.022059</td>\n",
       "      <td>0.769611</td>\n",
       "      <td>1.073529</td>\n",
       "    </tr>\n",
       "    <tr>\n",
       "      <th>10:10:00</th>\n",
       "      <td>-1.50</td>\n",
       "      <td>2.25</td>\n",
       "      <td>0.110294</td>\n",
       "      <td>0.807613</td>\n",
       "      <td>1.183824</td>\n",
       "    </tr>\n",
       "    <tr>\n",
       "      <th>10:11:00</th>\n",
       "      <td>-1.50</td>\n",
       "      <td>1.75</td>\n",
       "      <td>-0.117647</td>\n",
       "      <td>0.643250</td>\n",
       "      <td>1.066176</td>\n",
       "    </tr>\n",
       "    <tr>\n",
       "      <th>10:12:00</th>\n",
       "      <td>-1.50</td>\n",
       "      <td>1.25</td>\n",
       "      <td>0.029412</td>\n",
       "      <td>0.638905</td>\n",
       "      <td>1.095588</td>\n",
       "    </tr>\n",
       "    <tr>\n",
       "      <th>10:13:00</th>\n",
       "      <td>-1.75</td>\n",
       "      <td>1.25</td>\n",
       "      <td>-0.095588</td>\n",
       "      <td>0.677044</td>\n",
       "      <td>1.000000</td>\n",
       "    </tr>\n",
       "    <tr>\n",
       "      <th>10:14:00</th>\n",
       "      <td>-1.25</td>\n",
       "      <td>1.75</td>\n",
       "      <td>-0.036765</td>\n",
       "      <td>0.597128</td>\n",
       "      <td>0.963235</td>\n",
       "    </tr>\n",
       "    <tr>\n",
       "      <th>10:15:00</th>\n",
       "      <td>-1.00</td>\n",
       "      <td>2.75</td>\n",
       "      <td>0.213235</td>\n",
       "      <td>0.715447</td>\n",
       "      <td>1.176471</td>\n",
       "    </tr>\n",
       "    <tr>\n",
       "      <th>10:16:00</th>\n",
       "      <td>-1.50</td>\n",
       "      <td>1.25</td>\n",
       "      <td>0.014706</td>\n",
       "      <td>0.674035</td>\n",
       "      <td>1.191176</td>\n",
       "    </tr>\n",
       "    <tr>\n",
       "      <th>10:17:00</th>\n",
       "      <td>-2.00</td>\n",
       "      <td>2.00</td>\n",
       "      <td>0.080882</td>\n",
       "      <td>0.760583</td>\n",
       "      <td>1.272059</td>\n",
       "    </tr>\n",
       "    <tr>\n",
       "      <th>10:18:00</th>\n",
       "      <td>-1.00</td>\n",
       "      <td>1.25</td>\n",
       "      <td>0.088235</td>\n",
       "      <td>0.495748</td>\n",
       "      <td>1.360294</td>\n",
       "    </tr>\n",
       "    <tr>\n",
       "      <th>10:19:00</th>\n",
       "      <td>-1.00</td>\n",
       "      <td>1.25</td>\n",
       "      <td>-0.058824</td>\n",
       "      <td>0.496422</td>\n",
       "      <td>1.301471</td>\n",
       "    </tr>\n",
       "    <tr>\n",
       "      <th>10:20:00</th>\n",
       "      <td>-2.50</td>\n",
       "      <td>2.00</td>\n",
       "      <td>-0.102941</td>\n",
       "      <td>0.923428</td>\n",
       "      <td>1.198529</td>\n",
       "    </tr>\n",
       "    <tr>\n",
       "      <th>10:21:00</th>\n",
       "      <td>-2.00</td>\n",
       "      <td>3.00</td>\n",
       "      <td>-0.022059</td>\n",
       "      <td>0.877686</td>\n",
       "      <td>1.176471</td>\n",
       "    </tr>\n",
       "    <tr>\n",
       "      <th>10:22:00</th>\n",
       "      <td>-1.25</td>\n",
       "      <td>1.00</td>\n",
       "      <td>-0.088235</td>\n",
       "      <td>0.543147</td>\n",
       "      <td>1.088235</td>\n",
       "    </tr>\n",
       "    <tr>\n",
       "      <th>10:23:00</th>\n",
       "      <td>-0.75</td>\n",
       "      <td>2.25</td>\n",
       "      <td>0.095588</td>\n",
       "      <td>0.679836</td>\n",
       "      <td>1.183824</td>\n",
       "    </tr>\n",
       "    <tr>\n",
       "      <th>10:24:00</th>\n",
       "      <td>-2.25</td>\n",
       "      <td>2.00</td>\n",
       "      <td>0.264706</td>\n",
       "      <td>0.761132</td>\n",
       "      <td>1.448529</td>\n",
       "    </tr>\n",
       "    <tr>\n",
       "      <th>10:25:00</th>\n",
       "      <td>-1.50</td>\n",
       "      <td>1.50</td>\n",
       "      <td>-0.102941</td>\n",
       "      <td>0.606523</td>\n",
       "      <td>1.345588</td>\n",
       "    </tr>\n",
       "    <tr>\n",
       "      <th>10:26:00</th>\n",
       "      <td>-1.25</td>\n",
       "      <td>1.00</td>\n",
       "      <td>0.000000</td>\n",
       "      <td>0.518594</td>\n",
       "      <td>1.345588</td>\n",
       "    </tr>\n",
       "    <tr>\n",
       "      <th>10:27:00</th>\n",
       "      <td>-2.50</td>\n",
       "      <td>1.25</td>\n",
       "      <td>-0.411765</td>\n",
       "      <td>0.778213</td>\n",
       "      <td>0.933824</td>\n",
       "    </tr>\n",
       "    <tr>\n",
       "      <th>10:28:00</th>\n",
       "      <td>-1.50</td>\n",
       "      <td>1.25</td>\n",
       "      <td>-0.036765</td>\n",
       "      <td>0.537010</td>\n",
       "      <td>0.897059</td>\n",
       "    </tr>\n",
       "    <tr>\n",
       "      <th>10:29:00</th>\n",
       "      <td>-0.75</td>\n",
       "      <td>0.75</td>\n",
       "      <td>0.029412</td>\n",
       "      <td>0.402477</td>\n",
       "      <td>0.926471</td>\n",
       "    </tr>\n",
       "    <tr>\n",
       "      <th>10:30:00</th>\n",
       "      <td>-1.75</td>\n",
       "      <td>1.25</td>\n",
       "      <td>0.139706</td>\n",
       "      <td>0.870804</td>\n",
       "      <td>1.066176</td>\n",
       "    </tr>\n",
       "  </tbody>\n",
       "</table>\n",
       "</div>"
      ],
      "text/plain": [
       "           min   max      mean   std_dev  cumulative_return\n",
       "09:32:00 -2.50  1.75 -0.044118  0.903425          -0.044118\n",
       "09:33:00 -1.75  1.50  0.014706  0.863707          -0.029412\n",
       "09:34:00 -1.50  2.00  0.139706  0.793418           0.110294\n",
       "09:35:00 -2.25  2.50  0.051471  1.060266           0.161765\n",
       "09:36:00 -3.00  1.00 -0.301471  0.801938          -0.139706\n",
       "09:37:00 -1.50  2.00  0.176471  0.732186           0.036765\n",
       "09:38:00 -1.75  2.50  0.014706  0.878922           0.051471\n",
       "09:39:00 -1.75  4.75  0.367647  1.089265           0.419118\n",
       "09:40:00 -2.50  2.25  0.080882  0.897641           0.500000\n",
       "09:41:00 -1.25  1.00  0.051471  0.650697           0.551471\n",
       "09:42:00 -3.50  2.00 -0.066176  0.860120           0.485294\n",
       "09:43:00 -2.00  1.50 -0.007353  0.791731           0.477941\n",
       "09:44:00 -1.25  1.75  0.125000  0.606936           0.602941\n",
       "09:45:00 -1.50  1.75  0.132353  0.781498           0.735294\n",
       "09:46:00 -1.25  2.00  0.029412  0.727607           0.764706\n",
       "09:47:00 -1.50  1.50  0.213235  0.634048           0.977941\n",
       "09:48:00 -1.75  2.25  0.007353  0.754997           0.985294\n",
       "09:49:00 -1.75  1.00 -0.147059  0.738851           0.838235\n",
       "09:50:00 -2.00  2.50 -0.022059  0.877686           0.816176\n",
       "09:51:00 -2.25  1.75 -0.110294  0.756765           0.705882\n",
       "09:52:00 -1.25  1.75 -0.110294  0.631230           0.595588\n",
       "09:53:00 -1.50  1.00  0.000000  0.557320           0.595588\n",
       "09:54:00 -2.25  1.25 -0.080882  0.681800           0.514706\n",
       "09:55:00 -0.75  1.00  0.007353  0.466634           0.522059\n",
       "09:56:00 -1.00  1.50 -0.029412  0.583110           0.492647\n",
       "09:57:00 -1.25  1.00 -0.044118  0.527539           0.448529\n",
       "09:58:00 -1.25  1.25  0.000000  0.596708           0.448529\n",
       "09:59:00 -1.00  2.25  0.102941  0.677332           0.551471\n",
       "10:00:00 -3.25  2.00 -0.088235  0.994078           0.463235\n",
       "10:01:00 -2.00  2.75  0.191176  0.861770           0.654412\n",
       "10:02:00 -2.25  2.50  0.066176  0.791309           0.720588\n",
       "10:03:00 -3.00  1.50  0.000000  0.807165           0.720588\n",
       "10:04:00 -1.75  1.75  0.058824  0.688264           0.779412\n",
       "10:05:00 -1.50  1.75  0.301471  0.838874           1.080882\n",
       "10:06:00 -1.00  2.75  0.088235  0.818541           1.169118\n",
       "10:07:00 -3.00  1.00 -0.080882  0.822783           1.088235\n",
       "10:08:00 -1.50  1.00  0.007353  0.572360           1.095588\n",
       "10:09:00 -1.75  1.75 -0.022059  0.769611           1.073529\n",
       "10:10:00 -1.50  2.25  0.110294  0.807613           1.183824\n",
       "10:11:00 -1.50  1.75 -0.117647  0.643250           1.066176\n",
       "10:12:00 -1.50  1.25  0.029412  0.638905           1.095588\n",
       "10:13:00 -1.75  1.25 -0.095588  0.677044           1.000000\n",
       "10:14:00 -1.25  1.75 -0.036765  0.597128           0.963235\n",
       "10:15:00 -1.00  2.75  0.213235  0.715447           1.176471\n",
       "10:16:00 -1.50  1.25  0.014706  0.674035           1.191176\n",
       "10:17:00 -2.00  2.00  0.080882  0.760583           1.272059\n",
       "10:18:00 -1.00  1.25  0.088235  0.495748           1.360294\n",
       "10:19:00 -1.00  1.25 -0.058824  0.496422           1.301471\n",
       "10:20:00 -2.50  2.00 -0.102941  0.923428           1.198529\n",
       "10:21:00 -2.00  3.00 -0.022059  0.877686           1.176471\n",
       "10:22:00 -1.25  1.00 -0.088235  0.543147           1.088235\n",
       "10:23:00 -0.75  2.25  0.095588  0.679836           1.183824\n",
       "10:24:00 -2.25  2.00  0.264706  0.761132           1.448529\n",
       "10:25:00 -1.50  1.50 -0.102941  0.606523           1.345588\n",
       "10:26:00 -1.25  1.00  0.000000  0.518594           1.345588\n",
       "10:27:00 -2.50  1.25 -0.411765  0.778213           0.933824\n",
       "10:28:00 -1.50  1.25 -0.036765  0.537010           0.897059\n",
       "10:29:00 -0.75  0.75  0.029412  0.402477           0.926471\n",
       "10:30:00 -1.75  1.25  0.139706  0.870804           1.066176"
      ]
     },
     "execution_count": 123,
     "metadata": {},
     "output_type": "execute_result"
    }
   ],
   "source": [
    "df_930_1030"
   ]
  },
  {
   "cell_type": "markdown",
   "metadata": {},
   "source": [
    "Below is a plot of the cumulative return on average between 9:32 and 10:30"
   ]
  },
  {
   "cell_type": "code",
   "execution_count": 125,
   "metadata": {},
   "outputs": [
    {
     "data": {
      "text/plain": [
       "<matplotlib.axes._subplots.AxesSubplot at 0x117c6e610>"
      ]
     },
     "execution_count": 125,
     "metadata": {},
     "output_type": "execute_result"
    },
    {
     "data": {
      "image/png": "[encoded data removed]",
      "text/plain": [
       "<matplotlib.figure.Figure at 0x117e089d0>"
      ]
     },
     "metadata": {},
     "output_type": "display_data"
    }
   ],
   "source": [
    "df_930_1030['cumulative_return'].plot(figsize=(10,6))"
   ]
  },
  {
   "cell_type": "code",
   "execution_count": null,
   "metadata": {},
   "outputs": [],
   "source": []
  },
  {
   "cell_type": "code",
   "execution_count": null,
   "metadata": {},
   "outputs": [],
   "source": []
  },
  {
   "cell_type": "code",
   "execution_count": null,
   "metadata": {},
   "outputs": [],
   "source": []
  },
  {
   "cell_type": "code",
   "execution_count": null,
   "metadata": {},
   "outputs": [],
   "source": []
  },
  {
   "cell_type": "code",
   "execution_count": 105,
   "metadata": {},
   "outputs": [],
   "source": []
  },
  {
   "cell_type": "code",
   "execution_count": null,
   "metadata": {},
   "outputs": [],
   "source": []
  },
  {
   "cell_type": "code",
   "execution_count": null,
   "metadata": {
    "collapsed": true
   },
   "outputs": [],
   "source": []
  }
 ],
 "metadata": {
  "kernelspec": {
   "display_name": "Python 2",
   "language": "python",
   "name": "python2"
  },
  "language_info": {
   "codemirror_mode": {
    "name": "ipython",
    "version": 2
   },
   "file_extension": ".py",
   "mimetype": "text/x-python",
   "name": "python",
   "nbconvert_exporter": "python",
   "pygments_lexer": "ipython2",
   "version": "2.7.14"
  }
 },
 "nbformat": 4,
 "nbformat_minor": 2
}
